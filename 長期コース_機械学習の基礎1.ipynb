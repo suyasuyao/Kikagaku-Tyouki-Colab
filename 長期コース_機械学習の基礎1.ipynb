{
  "nbformat": 4,
  "nbformat_minor": 0,
  "metadata": {
    "colab": {
      "name": "長期コース_機械学習の基礎1.ipynb",
      "provenance": [],
      "mount_file_id": "159JhbUDOwvPWoTP8Ff1CAW5U7Ng5XAse",
      "authorship_tag": "ABX9TyO0onCcadKXguDj6q11fX1c",
      "include_colab_link": true
    },
    "kernelspec": {
      "name": "python3",
      "display_name": "Python 3"
    },
    "language_info": {
      "name": "python"
    },
    "accelerator": "GPU"
  },
  "cells": [
    {
      "cell_type": "markdown",
      "metadata": {
        "id": "view-in-github",
        "colab_type": "text"
      },
      "source": [
        "<a href=\"https://colab.research.google.com/github/suyasuyao/Kikagaku-Tyouki-Colab/blob/main/%E9%95%B7%E6%9C%9F%E3%82%B3%E3%83%BC%E3%82%B9_%E6%A9%9F%E6%A2%B0%E5%AD%A6%E7%BF%92%E3%81%AE%E5%9F%BA%E7%A4%8E1.ipynb\" target=\"_parent\"><img src=\"https://colab.research.google.com/assets/colab-badge.svg\" alt=\"Open In Colab\"/></a>"
      ]
    },
    {
      "cell_type": "markdown",
      "source": [
        "# 教師あり学習　回帰①"
      ],
      "metadata": {
        "id": "gZ4NlJ_lWA4T"
      }
    },
    {
      "cell_type": "markdown",
      "source": [
        "# 重回帰分析の実装"
      ],
      "metadata": {
        "id": "qler5GOU27jo"
      }
    },
    {
      "cell_type": "code",
      "source": [
        "import numpy as np\n",
        "import pandas as pd\n",
        "import matplotlib.pyplot as plt\n",
        "import seaborn as sns"
      ],
      "metadata": {
        "id": "Lhol86Un2-ws"
      },
      "execution_count": null,
      "outputs": []
    },
    {
      "cell_type": "code",
      "source": [
        "# データセットの読み込み xは入力、tは目標値として読み込み\n",
        "from sklearn.datasets import load_boston\n",
        "dataset = load_boston()\n",
        "x,t = dataset.data, dataset.target\n",
        "columns = dataset.feature_names"
      ],
      "metadata": {
        "colab": {
          "base_uri": "https://localhost:8080/"
        },
        "id": "1bE_6_Lv3Rcp",
        "outputId": "cbaad82c-4d67-4a41-af9b-b1966fcf7a82"
      },
      "execution_count": null,
      "outputs": [
        {
          "output_type": "stream",
          "name": "stderr",
          "text": [
            "/usr/local/lib/python3.7/dist-packages/sklearn/utils/deprecation.py:87: FutureWarning: Function load_boston is deprecated; `load_boston` is deprecated in 1.0 and will be removed in 1.2.\n",
            "\n",
            "    The Boston housing prices dataset has an ethical problem. You can refer to\n",
            "    the documentation of this function for further details.\n",
            "\n",
            "    The scikit-learn maintainers therefore strongly discourage the use of this\n",
            "    dataset unless the purpose of the code is to study and educate about\n",
            "    ethical issues in data science and machine learning.\n",
            "\n",
            "    In this special case, you can fetch the dataset from the original\n",
            "    source::\n",
            "\n",
            "        import pandas as pd\n",
            "        import numpy as np\n",
            "\n",
            "\n",
            "        data_url = \"http://lib.stat.cmu.edu/datasets/boston\"\n",
            "        raw_df = pd.read_csv(data_url, sep=\"\\s+\", skiprows=22, header=None)\n",
            "        data = np.hstack([raw_df.values[::2, :], raw_df.values[1::2, :2]])\n",
            "        target = raw_df.values[1::2, 2]\n",
            "\n",
            "    Alternative datasets include the California housing dataset (i.e.\n",
            "    :func:`~sklearn.datasets.fetch_california_housing`) and the Ames housing\n",
            "    dataset. You can load the datasets as follows::\n",
            "\n",
            "        from sklearn.datasets import fetch_california_housing\n",
            "        housing = fetch_california_housing()\n",
            "\n",
            "    for the California housing dataset and::\n",
            "\n",
            "        from sklearn.datasets import fetch_openml\n",
            "        housing = fetch_openml(name=\"house_prices\", as_frame=True)\n",
            "\n",
            "    for the Ames housing dataset.\n",
            "    \n",
            "  warnings.warn(msg, category=FutureWarning)\n"
          ]
        }
      ]
    },
    {
      "cell_type": "code",
      "source": [
        ""
      ],
      "metadata": {
        "id": "r-TISXs5OsJe"
      },
      "execution_count": null,
      "outputs": []
    },
    {
      "cell_type": "code",
      "source": [
        "type(x), x.shape, type(t), t.shape"
      ],
      "metadata": {
        "colab": {
          "base_uri": "https://localhost:8080/"
        },
        "id": "867-lYiR3a-X",
        "outputId": "e01af56a-c7f1-45cb-c0fb-9294232d7a4f"
      },
      "execution_count": null,
      "outputs": [
        {
          "output_type": "execute_result",
          "data": {
            "text/plain": [
              "(numpy.ndarray, (506, 13), numpy.ndarray, (506,))"
            ]
          },
          "metadata": {},
          "execution_count": 52
        }
      ]
    },
    {
      "cell_type": "code",
      "source": [
        "#xをdfというデータフレームに変換\n",
        "df = pd.DataFrame(x,columns = columns)\n"
      ],
      "metadata": {
        "id": "4olE57JZ9t5I"
      },
      "execution_count": null,
      "outputs": []
    },
    {
      "cell_type": "code",
      "source": [
        "# tをdfデータフレームに格納\n",
        "df['Target'] = t \n",
        "df.head(3)"
      ],
      "metadata": {
        "id": "fIZ3jU0h93OD",
        "colab": {
          "base_uri": "https://localhost:8080/",
          "height": 143
        },
        "outputId": "a8e4f068-7641-48e3-9d46-de6057880964"
      },
      "execution_count": null,
      "outputs": [
        {
          "output_type": "execute_result",
          "data": {
            "text/plain": [
              "      CRIM    ZN  INDUS  CHAS    NOX     RM   AGE     DIS  RAD    TAX  \\\n",
              "0  0.00632  18.0   2.31   0.0  0.538  6.575  65.2  4.0900  1.0  296.0   \n",
              "1  0.02731   0.0   7.07   0.0  0.469  6.421  78.9  4.9671  2.0  242.0   \n",
              "2  0.02729   0.0   7.07   0.0  0.469  7.185  61.1  4.9671  2.0  242.0   \n",
              "\n",
              "   PTRATIO       B  LSTAT  Target  \n",
              "0     15.3  396.90   4.98    24.0  \n",
              "1     17.8  396.90   9.14    21.6  \n",
              "2     17.8  392.83   4.03    34.7  "
            ],
            "text/html": [
              "\n",
              "  <div id=\"df-eab378dd-ad0d-4852-9bc9-fb7d84237d4e\">\n",
              "    <div class=\"colab-df-container\">\n",
              "      <div>\n",
              "<style scoped>\n",
              "    .dataframe tbody tr th:only-of-type {\n",
              "        vertical-align: middle;\n",
              "    }\n",
              "\n",
              "    .dataframe tbody tr th {\n",
              "        vertical-align: top;\n",
              "    }\n",
              "\n",
              "    .dataframe thead th {\n",
              "        text-align: right;\n",
              "    }\n",
              "</style>\n",
              "<table border=\"1\" class=\"dataframe\">\n",
              "  <thead>\n",
              "    <tr style=\"text-align: right;\">\n",
              "      <th></th>\n",
              "      <th>CRIM</th>\n",
              "      <th>ZN</th>\n",
              "      <th>INDUS</th>\n",
              "      <th>CHAS</th>\n",
              "      <th>NOX</th>\n",
              "      <th>RM</th>\n",
              "      <th>AGE</th>\n",
              "      <th>DIS</th>\n",
              "      <th>RAD</th>\n",
              "      <th>TAX</th>\n",
              "      <th>PTRATIO</th>\n",
              "      <th>B</th>\n",
              "      <th>LSTAT</th>\n",
              "      <th>Target</th>\n",
              "    </tr>\n",
              "  </thead>\n",
              "  <tbody>\n",
              "    <tr>\n",
              "      <th>0</th>\n",
              "      <td>0.00632</td>\n",
              "      <td>18.0</td>\n",
              "      <td>2.31</td>\n",
              "      <td>0.0</td>\n",
              "      <td>0.538</td>\n",
              "      <td>6.575</td>\n",
              "      <td>65.2</td>\n",
              "      <td>4.0900</td>\n",
              "      <td>1.0</td>\n",
              "      <td>296.0</td>\n",
              "      <td>15.3</td>\n",
              "      <td>396.90</td>\n",
              "      <td>4.98</td>\n",
              "      <td>24.0</td>\n",
              "    </tr>\n",
              "    <tr>\n",
              "      <th>1</th>\n",
              "      <td>0.02731</td>\n",
              "      <td>0.0</td>\n",
              "      <td>7.07</td>\n",
              "      <td>0.0</td>\n",
              "      <td>0.469</td>\n",
              "      <td>6.421</td>\n",
              "      <td>78.9</td>\n",
              "      <td>4.9671</td>\n",
              "      <td>2.0</td>\n",
              "      <td>242.0</td>\n",
              "      <td>17.8</td>\n",
              "      <td>396.90</td>\n",
              "      <td>9.14</td>\n",
              "      <td>21.6</td>\n",
              "    </tr>\n",
              "    <tr>\n",
              "      <th>2</th>\n",
              "      <td>0.02729</td>\n",
              "      <td>0.0</td>\n",
              "      <td>7.07</td>\n",
              "      <td>0.0</td>\n",
              "      <td>0.469</td>\n",
              "      <td>7.185</td>\n",
              "      <td>61.1</td>\n",
              "      <td>4.9671</td>\n",
              "      <td>2.0</td>\n",
              "      <td>242.0</td>\n",
              "      <td>17.8</td>\n",
              "      <td>392.83</td>\n",
              "      <td>4.03</td>\n",
              "      <td>34.7</td>\n",
              "    </tr>\n",
              "  </tbody>\n",
              "</table>\n",
              "</div>\n",
              "      <button class=\"colab-df-convert\" onclick=\"convertToInteractive('df-eab378dd-ad0d-4852-9bc9-fb7d84237d4e')\"\n",
              "              title=\"Convert this dataframe to an interactive table.\"\n",
              "              style=\"display:none;\">\n",
              "        \n",
              "  <svg xmlns=\"http://www.w3.org/2000/svg\" height=\"24px\"viewBox=\"0 0 24 24\"\n",
              "       width=\"24px\">\n",
              "    <path d=\"M0 0h24v24H0V0z\" fill=\"none\"/>\n",
              "    <path d=\"M18.56 5.44l.94 2.06.94-2.06 2.06-.94-2.06-.94-.94-2.06-.94 2.06-2.06.94zm-11 1L8.5 8.5l.94-2.06 2.06-.94-2.06-.94L8.5 2.5l-.94 2.06-2.06.94zm10 10l.94 2.06.94-2.06 2.06-.94-2.06-.94-.94-2.06-.94 2.06-2.06.94z\"/><path d=\"M17.41 7.96l-1.37-1.37c-.4-.4-.92-.59-1.43-.59-.52 0-1.04.2-1.43.59L10.3 9.45l-7.72 7.72c-.78.78-.78 2.05 0 2.83L4 21.41c.39.39.9.59 1.41.59.51 0 1.02-.2 1.41-.59l7.78-7.78 2.81-2.81c.8-.78.8-2.07 0-2.86zM5.41 20L4 18.59l7.72-7.72 1.47 1.35L5.41 20z\"/>\n",
              "  </svg>\n",
              "      </button>\n",
              "      \n",
              "  <style>\n",
              "    .colab-df-container {\n",
              "      display:flex;\n",
              "      flex-wrap:wrap;\n",
              "      gap: 12px;\n",
              "    }\n",
              "\n",
              "    .colab-df-convert {\n",
              "      background-color: #E8F0FE;\n",
              "      border: none;\n",
              "      border-radius: 50%;\n",
              "      cursor: pointer;\n",
              "      display: none;\n",
              "      fill: #1967D2;\n",
              "      height: 32px;\n",
              "      padding: 0 0 0 0;\n",
              "      width: 32px;\n",
              "    }\n",
              "\n",
              "    .colab-df-convert:hover {\n",
              "      background-color: #E2EBFA;\n",
              "      box-shadow: 0px 1px 2px rgba(60, 64, 67, 0.3), 0px 1px 3px 1px rgba(60, 64, 67, 0.15);\n",
              "      fill: #174EA6;\n",
              "    }\n",
              "\n",
              "    [theme=dark] .colab-df-convert {\n",
              "      background-color: #3B4455;\n",
              "      fill: #D2E3FC;\n",
              "    }\n",
              "\n",
              "    [theme=dark] .colab-df-convert:hover {\n",
              "      background-color: #434B5C;\n",
              "      box-shadow: 0px 1px 3px 1px rgba(0, 0, 0, 0.15);\n",
              "      filter: drop-shadow(0px 1px 2px rgba(0, 0, 0, 0.3));\n",
              "      fill: #FFFFFF;\n",
              "    }\n",
              "  </style>\n",
              "\n",
              "      <script>\n",
              "        const buttonEl =\n",
              "          document.querySelector('#df-eab378dd-ad0d-4852-9bc9-fb7d84237d4e button.colab-df-convert');\n",
              "        buttonEl.style.display =\n",
              "          google.colab.kernel.accessAllowed ? 'block' : 'none';\n",
              "\n",
              "        async function convertToInteractive(key) {\n",
              "          const element = document.querySelector('#df-eab378dd-ad0d-4852-9bc9-fb7d84237d4e');\n",
              "          const dataTable =\n",
              "            await google.colab.kernel.invokeFunction('convertToInteractive',\n",
              "                                                     [key], {});\n",
              "          if (!dataTable) return;\n",
              "\n",
              "          const docLinkHtml = 'Like what you see? Visit the ' +\n",
              "            '<a target=\"_blank\" href=https://colab.research.google.com/notebooks/data_table.ipynb>data table notebook</a>'\n",
              "            + ' to learn more about interactive tables.';\n",
              "          element.innerHTML = '';\n",
              "          dataTable['output_type'] = 'display_data';\n",
              "          await google.colab.output.renderOutput(dataTable, element);\n",
              "          const docLink = document.createElement('div');\n",
              "          docLink.innerHTML = docLinkHtml;\n",
              "          element.appendChild(docLink);\n",
              "        }\n",
              "      </script>\n",
              "    </div>\n",
              "  </div>\n",
              "  "
            ]
          },
          "metadata": {},
          "execution_count": 54
        }
      ]
    },
    {
      "cell_type": "code",
      "source": [
        "type(df)"
      ],
      "metadata": {
        "colab": {
          "base_uri": "https://localhost:8080/"
        },
        "id": "KJxfv5pbPoJm",
        "outputId": "5a109621-603c-45a7-c0dd-529aa539c1bf"
      },
      "execution_count": null,
      "outputs": [
        {
          "output_type": "execute_result",
          "data": {
            "text/plain": [
              "pandas.core.frame.DataFrame"
            ]
          },
          "metadata": {},
          "execution_count": 55
        }
      ]
    },
    {
      "cell_type": "code",
      "source": [
        "# xを入力　tを目標として再度設定　再度numpyに戻す\n",
        "t = df['Target'].values\n",
        "x = df.drop(labels=['Target'],axis=1).values\n"
      ],
      "metadata": {
        "id": "7Gg3HLg1-cTN"
      },
      "execution_count": null,
      "outputs": []
    },
    {
      "cell_type": "markdown",
      "source": [
        "# 学習用データセットとテスト用データセットへ分割"
      ],
      "metadata": {
        "id": "T4RH5Bi0_OCe"
      }
    },
    {
      "cell_type": "code",
      "source": [
        "from sklearn.model_selection import train_test_split\n",
        "# x_trainは学習用入力、x_testはテスト用学習、t_trainは学習用目標t_testはテスト用目標に分割　テストデータは30% ランダムのシード値は０（数字は固定であればいい）\n",
        "x_train, x_test,t_train, t_test= train_test_split(x,t, test_size=0.3, random_state = 0)"
      ],
      "metadata": {
        "id": "PCeraatW_Zb_"
      },
      "execution_count": null,
      "outputs": []
    },
    {
      "cell_type": "markdown",
      "source": [
        "# モデルの学習検証"
      ],
      "metadata": {
        "id": "wKfwvmqBFTtd"
      }
    },
    {
      "cell_type": "code",
      "source": [
        "# モデルの定義\n",
        "from sklearn.linear_model import LinearRegression\n",
        "model = LinearRegression()\n"
      ],
      "metadata": {
        "id": "HBnNlYNHFhS4"
      },
      "execution_count": null,
      "outputs": []
    },
    {
      "cell_type": "code",
      "source": [
        "# モデルの学習　xとtの訓練で\n",
        "\n",
        "model.fit(x_train, t_train)"
      ],
      "metadata": {
        "colab": {
          "base_uri": "https://localhost:8080/"
        },
        "id": "fkr5d2DhMq4Q",
        "outputId": "55bbe907-feb6-43c0-96d3-8add97b67926"
      },
      "execution_count": null,
      "outputs": [
        {
          "output_type": "execute_result",
          "data": {
            "text/plain": [
              "LinearRegression()"
            ]
          },
          "metadata": {},
          "execution_count": 59
        }
      ]
    },
    {
      "cell_type": "code",
      "source": [
        "# coefは重みパラメータw\n",
        "# wは重回帰分析の式を表すためのパラメータ\n",
        "\n",
        "model.coef_"
      ],
      "metadata": {
        "colab": {
          "base_uri": "https://localhost:8080/"
        },
        "id": "gl9JC9Q3MwXd",
        "outputId": "f48ec6b2-bee0-47f9-d6ae-1bc37e12d251"
      },
      "execution_count": null,
      "outputs": [
        {
          "output_type": "execute_result",
          "data": {
            "text/plain": [
              "array([-1.21310401e-01,  4.44664254e-02,  1.13416945e-02,  2.51124642e+00,\n",
              "       -1.62312529e+01,  3.85906801e+00, -9.98516565e-03, -1.50026956e+00,\n",
              "        2.42143466e-01, -1.10716124e-02, -1.01775264e+00,  6.81446545e-03,\n",
              "       -4.86738066e-01])"
            ]
          },
          "metadata": {},
          "execution_count": 60
        }
      ]
    },
    {
      "cell_type": "code",
      "source": [
        "# 学習後のパラメータ w \n",
        "model.intercept_"
      ],
      "metadata": {
        "colab": {
          "base_uri": "https://localhost:8080/"
        },
        "id": "EMEAZ4evNGjO",
        "outputId": "aa14277a-55d4-447a-f085-6dcf11d5132b"
      },
      "execution_count": null,
      "outputs": [
        {
          "output_type": "execute_result",
          "data": {
            "text/plain": [
              "37.93710774183309"
            ]
          },
          "metadata": {},
          "execution_count": 61
        }
      ]
    },
    {
      "cell_type": "code",
      "source": [
        "# パラメータの分布をヒストグラムで可視化\n",
        "# matplotで横が10インチ、縦が７インチの大きさになる　画面の数値の尺度ではない\n",
        "plt.figure(figsize=(10,7))\n",
        "# 横はカラム名　縦はwの値\n",
        "plt.bar(x=columns, height=model.coef_);"
      ],
      "metadata": {
        "colab": {
          "base_uri": "https://localhost:8080/",
          "height": 428
        },
        "id": "EsF4EIcLNKn4",
        "outputId": "c66d06dd-a394-4a21-ea41-cf035ae09846"
      },
      "execution_count": null,
      "outputs": [
        {
          "output_type": "display_data",
          "data": {
            "text/plain": [
              "<Figure size 720x504 with 1 Axes>"
            ],
            "image/png": "[encoded data removed]"
          },
          "metadata": {
            "needs_background": "light"
          }
        }
      ]
    },
    {
      "cell_type": "code",
      "source": [
        "# scoreで決定係数を検証　学習用入力ｘから学習用目標tが導き出せるかの決定係数\n",
        "print('train score : ', model.score(x_train, t_train))\n",
        "# scoreで決定係数を検証　テスト用入力ｘからテスト用目標tが導き出せるかの決定係数\n",
        "print('test score : ', model.score(x_test, t_test))\n",
        "\n",
        "# 結果があまりよくない（trainとくらべてtestが１から離れてる）ので過学習"
      ],
      "metadata": {
        "colab": {
          "base_uri": "https://localhost:8080/"
        },
        "id": "x0hVhuPESU_l",
        "outputId": "9677b1ab-b310-4fe8-da9b-5c7a5d13e5ee"
      },
      "execution_count": null,
      "outputs": [
        {
          "output_type": "stream",
          "name": "stdout",
          "text": [
            "train score :  0.7645451026942549\n",
            "test score :  0.6733825506400171\n"
          ]
        }
      ]
    },
    {
      "cell_type": "markdown",
      "source": [
        "# 推論"
      ],
      "metadata": {
        "id": "DkD_3e_MNXo1"
      }
    },
    {
      "cell_type": "code",
      "source": [
        "# 推論\n",
        "y = model.predict(x_test)"
      ],
      "metadata": {
        "id": "F5vOjN0sSdtY"
      },
      "execution_count": null,
      "outputs": []
    },
    {
      "cell_type": "code",
      "source": [
        "print('予測値: ', y[0])\n",
        "print('目標値: ', t_test[0])"
      ],
      "metadata": {
        "colab": {
          "base_uri": "https://localhost:8080/"
        },
        "id": "3PlVl_UASlL4",
        "outputId": "a33c4c19-ba23-472d-d1a6-772a1b2cb5eb"
      },
      "execution_count": null,
      "outputs": [
        {
          "output_type": "stream",
          "name": "stdout",
          "text": [
            "予測値:  24.935707898576915\n",
            "目標値:  22.6\n"
          ]
        }
      ]
    },
    {
      "cell_type": "markdown",
      "source": [
        "\n",
        "\n",
        "---\n",
        "\n"
      ],
      "metadata": {
        "id": "XmlfFkdeULYX"
      }
    },
    {
      "cell_type": "markdown",
      "source": [
        "# 線形回帰の過学習を抑制する手法"
      ],
      "metadata": {
        "id": "olzlKRQAUMAN"
      }
    },
    {
      "cell_type": "code",
      "source": [
        "# Rigge回帰クラス　alphaは正則化の厳しさ\n",
        "from sklearn.linear_model import Ridge\n",
        "ridge =  Ridge(alpha=1)"
      ],
      "metadata": {
        "id": "kORH7fvMUjG8"
      },
      "execution_count": null,
      "outputs": []
    },
    {
      "cell_type": "code",
      "source": [
        "# モデルの学習\n",
        "ridge.fit(x_train, t_train)"
      ],
      "metadata": {
        "colab": {
          "base_uri": "https://localhost:8080/"
        },
        "id": "aQP97UuDxST0",
        "outputId": "1c8e6abb-4a48-4d2b-8eeb-3f401bc704c5"
      },
      "execution_count": null,
      "outputs": [
        {
          "output_type": "execute_result",
          "data": {
            "text/plain": [
              "Ridge(alpha=1)"
            ]
          },
          "metadata": {},
          "execution_count": 67
        }
      ]
    },
    {
      "cell_type": "code",
      "source": [
        "# モデルの検証（テスト結果の性能悪い（）\n",
        "print('train score:', ridge.score(x_train, t_train))\n",
        "print('test score:', ridge.score(x_test,t_test))"
      ],
      "metadata": {
        "colab": {
          "base_uri": "https://localhost:8080/"
        },
        "id": "Fw75QMXhyGK0",
        "outputId": "6373b400-94b5-4bfd-d75d-477f1acf70b4"
      },
      "execution_count": null,
      "outputs": [
        {
          "output_type": "stream",
          "name": "stdout",
          "text": [
            "train score: 0.7623440182689594\n",
            "test score: 0.6665819091486687\n"
          ]
        }
      ]
    },
    {
      "cell_type": "code",
      "source": [
        "# 箱を準備\n",
        "fig = plt.figure(figsize=(7,10))\n",
        "\n",
        "# 重回帰分析 subplotは２行１列マスの１つめ\n",
        "ax1 = fig.add_subplot(2,1,1)\n",
        "ax1.bar(x=columns,height=model.coef_)\n",
        "ax1.set_title('Linear Regression')\n",
        "\n",
        "#リッジ回帰subplotは２行１列マスの2つめ\n",
        "ax2 = fig.add_subplot(2,1,2)\n",
        "ax2.bar(x=columns,height=ridge.coef_)\n",
        "ax2.set_title('Ridge Regression')"
      ],
      "metadata": {
        "colab": {
          "base_uri": "https://localhost:8080/"
        },
        "id": "1Zwh6sdY2Etc",
        "outputId": "fabf0b01-3745-44ef-94d2-5c0e8d266647"
      },
      "execution_count": null,
      "outputs": [
        {
          "output_type": "execute_result",
          "data": {
            "text/plain": [
              "Text(0.5, 1.0, 'Ridge Regression')"
            ]
          },
          "metadata": {},
          "execution_count": 69
        },
        {
          "output_type": "display_data",
          "data": {
            "text/plain": [
              "<Figure size 504x720 with 2 Axes>"
            ],
            "image/png": "[encoded data removed]"
          },
          "metadata": {
            "needs_background": "light"
          }
        }
      ]
    },
    {
      "cell_type": "markdown",
      "source": [
        ""
      ],
      "metadata": {
        "id": "gToq1mLO9p1_"
      }
    },
    {
      "cell_type": "code",
      "source": [
        ""
      ],
      "metadata": {
        "id": "Kdqt6ped-pOm"
      },
      "execution_count": null,
      "outputs": []
    },
    {
      "cell_type": "code",
      "source": [
        ""
      ],
      "metadata": {
        "id": "ikQbZeZD-pMM"
      },
      "execution_count": null,
      "outputs": []
    },
    {
      "cell_type": "code",
      "source": [
        ""
      ],
      "metadata": {
        "id": "GNZMR7BL-pJG"
      },
      "execution_count": null,
      "outputs": []
    },
    {
      "cell_type": "code",
      "source": [
        ""
      ],
      "metadata": {
        "id": "b3kKChM--pGe"
      },
      "execution_count": null,
      "outputs": []
    },
    {
      "cell_type": "code",
      "source": [
        ""
      ],
      "metadata": {
        "id": "cSjnYtM4-pEH"
      },
      "execution_count": null,
      "outputs": []
    },
    {
      "cell_type": "code",
      "source": [
        ""
      ],
      "metadata": {
        "id": "ygw7_qg9-pBc"
      },
      "execution_count": null,
      "outputs": []
    },
    {
      "cell_type": "code",
      "source": [
        ""
      ],
      "metadata": {
        "id": "G_5P1ZKb-o_P"
      },
      "execution_count": null,
      "outputs": []
    },
    {
      "cell_type": "code",
      "source": [
        ""
      ],
      "metadata": {
        "id": "3vEuwqpG-o8C"
      },
      "execution_count": null,
      "outputs": []
    },
    {
      "cell_type": "code",
      "source": [
        ""
      ],
      "metadata": {
        "id": "zc2S09Ij-o5T"
      },
      "execution_count": null,
      "outputs": []
    },
    {
      "cell_type": "code",
      "source": [
        ""
      ],
      "metadata": {
        "id": "EExxAvLa-o2d"
      },
      "execution_count": null,
      "outputs": []
    },
    {
      "cell_type": "code",
      "source": [
        ""
      ],
      "metadata": {
        "id": "yNPrUZoT-ozE"
      },
      "execution_count": null,
      "outputs": []
    },
    {
      "cell_type": "code",
      "source": [
        ""
      ],
      "metadata": {
        "id": "sntU6O0u-oub"
      },
      "execution_count": null,
      "outputs": []
    },
    {
      "cell_type": "code",
      "source": [
        ""
      ],
      "metadata": {
        "id": "aMjP3OiK-olb"
      },
      "execution_count": null,
      "outputs": []
    },
    {
      "cell_type": "code",
      "source": [
        ""
      ],
      "metadata": {
        "id": "ubgSPQdQ-obo"
      },
      "execution_count": null,
      "outputs": []
    },
    {
      "cell_type": "markdown",
      "source": [
        "---\n"
      ],
      "metadata": {
        "id": "2j8XNouK-m2x"
      }
    },
    {
      "cell_type": "markdown",
      "source": [
        "# 章末問題"
      ],
      "metadata": {
        "id": "klwkmYDh-rya"
      }
    },
    {
      "cell_type": "markdown",
      "source": [
        "\n",
        "世帯収入（変数名：Total Household Income）に対して、相関係数の絶対値が 0.5 を超える特徴量をすべて選択せよ\n",
        "線形モデルを利用する場合、目標値と線形の関係性を持つ特徴量は予測に効くと考え、目標値との相関係数が高いものを選択する考え方があります。\n",
        "\n",
        "今回は、Total Household Income を予測するモデルを考えましょう。\n",
        "\n",
        "要件\n",
        "データセット：income_and_expenditure.csv\n",
        "ヒント\n",
        "相関行列を作成してみましょう。\n",
        "絶対値の取得方法を調べてみましょう。"
      ],
      "metadata": {
        "id": "4FTbJIqr_GIl"
      }
    },
    {
      "cell_type": "code",
      "source": [
        "# モジュール\n",
        "import numpy as np\n",
        "import pandas as pd\n",
        "import matplotlib.pyplot as plt\n",
        "import seaborn as sns\n",
        "import warnings\n",
        "\n",
        "%matplotlib inline\n",
        "\n"
      ],
      "metadata": {
        "id": "9L7OWSWq_NPx"
      },
      "execution_count": null,
      "outputs": []
    },
    {
      "cell_type": "code",
      "source": [
        "# データの読み込み　income_and_expenditure.csv \n",
        "df = pd.read_csv('/content/drive/MyDrive/Colab Notebooks/income_and_expenditure.csv')\n",
        "df.head(3)"
      ],
      "metadata": {
        "colab": {
          "base_uri": "https://localhost:8080/",
          "height": 306
        },
        "id": "WxoJ9hxcQQke",
        "outputId": "e33bd2cf-60bc-4282-e06c-124d6772d745"
      },
      "execution_count": null,
      "outputs": [
        {
          "output_type": "execute_result",
          "data": {
            "text/plain": [
              "   Total Household Income Region  Total Food Expenditure  \\\n",
              "0                  480332    CAR                  117848   \n",
              "1                  198235    CAR                   67766   \n",
              "2                   82785    CAR                   61609   \n",
              "\n",
              "  Main Source of Income  Agricultural Household indicator  \\\n",
              "0         Wage/Salaries                                 0   \n",
              "1         Wage/Salaries                                 0   \n",
              "2         Wage/Salaries                                 1   \n",
              "\n",
              "   Bread and Cereals Expenditure  Total Rice Expenditure  Meat Expenditure  \\\n",
              "0                          42140                   38300             24676   \n",
              "1                          17329                   13008             17434   \n",
              "2                          34182                   32001              7783   \n",
              "\n",
              "   Total Fish and  marine products Expenditure  Fruit Expenditure  ...  \\\n",
              "0                                        16806               3325  ...   \n",
              "1                                        11073               2035  ...   \n",
              "2                                         2590               1730  ...   \n",
              "\n",
              "   Number of Refrigerator/Freezer  Number of Washing Machine  \\\n",
              "0                               1                          1   \n",
              "1                               0                          1   \n",
              "2                               0                          0   \n",
              "\n",
              "   Number of Airconditioner  Number of Car, Jeep, Van  \\\n",
              "0                         0                         0   \n",
              "1                         0                         0   \n",
              "2                         0                         0   \n",
              "\n",
              "   Number of Landline/wireless telephones  Number of Cellular phone  \\\n",
              "0                                       0                         2   \n",
              "1                                       0                         3   \n",
              "2                                       0                         0   \n",
              "\n",
              "   Number of Personal Computer  Number of Stove with Oven/Gas Range  \\\n",
              "0                            1                                    0   \n",
              "1                            1                                    0   \n",
              "2                            0                                    0   \n",
              "\n",
              "   Number of Motorized Banca  Number of Motorcycle/Tricycle  \n",
              "0                          0                              1  \n",
              "1                          0                              2  \n",
              "2                          0                              0  \n",
              "\n",
              "[3 rows x 60 columns]"
            ],
            "text/html": [
              "\n",
              "  <div id=\"df-89a002e5-5441-48e4-b3c5-f5cc69ea02a5\">\n",
              "    <div class=\"colab-df-container\">\n",
              "      <div>\n",
              "<style scoped>\n",
              "    .dataframe tbody tr th:only-of-type {\n",
              "        vertical-align: middle;\n",
              "    }\n",
              "\n",
              "    .dataframe tbody tr th {\n",
              "        vertical-align: top;\n",
              "    }\n",
              "\n",
              "    .dataframe thead th {\n",
              "        text-align: right;\n",
              "    }\n",
              "</style>\n",
              "<table border=\"1\" class=\"dataframe\">\n",
              "  <thead>\n",
              "    <tr style=\"text-align: right;\">\n",
              "      <th></th>\n",
              "      <th>Total Household Income</th>\n",
              "      <th>Region</th>\n",
              "      <th>Total Food Expenditure</th>\n",
              "      <th>Main Source of Income</th>\n",
              "      <th>Agricultural Household indicator</th>\n",
              "      <th>Bread and Cereals Expenditure</th>\n",
              "      <th>Total Rice Expenditure</th>\n",
              "      <th>Meat Expenditure</th>\n",
              "      <th>Total Fish and  marine products Expenditure</th>\n",
              "      <th>Fruit Expenditure</th>\n",
              "      <th>...</th>\n",
              "      <th>Number of Refrigerator/Freezer</th>\n",
              "      <th>Number of Washing Machine</th>\n",
              "      <th>Number of Airconditioner</th>\n",
              "      <th>Number of Car, Jeep, Van</th>\n",
              "      <th>Number of Landline/wireless telephones</th>\n",
              "      <th>Number of Cellular phone</th>\n",
              "      <th>Number of Personal Computer</th>\n",
              "      <th>Number of Stove with Oven/Gas Range</th>\n",
              "      <th>Number of Motorized Banca</th>\n",
              "      <th>Number of Motorcycle/Tricycle</th>\n",
              "    </tr>\n",
              "  </thead>\n",
              "  <tbody>\n",
              "    <tr>\n",
              "      <th>0</th>\n",
              "      <td>480332</td>\n",
              "      <td>CAR</td>\n",
              "      <td>117848</td>\n",
              "      <td>Wage/Salaries</td>\n",
              "      <td>0</td>\n",
              "      <td>42140</td>\n",
              "      <td>38300</td>\n",
              "      <td>24676</td>\n",
              "      <td>16806</td>\n",
              "      <td>3325</td>\n",
              "      <td>...</td>\n",
              "      <td>1</td>\n",
              "      <td>1</td>\n",
              "      <td>0</td>\n",
              "      <td>0</td>\n",
              "      <td>0</td>\n",
              "      <td>2</td>\n",
              "      <td>1</td>\n",
              "      <td>0</td>\n",
              "      <td>0</td>\n",
              "      <td>1</td>\n",
              "    </tr>\n",
              "    <tr>\n",
              "      <th>1</th>\n",
              "      <td>198235</td>\n",
              "      <td>CAR</td>\n",
              "      <td>67766</td>\n",
              "      <td>Wage/Salaries</td>\n",
              "      <td>0</td>\n",
              "      <td>17329</td>\n",
              "      <td>13008</td>\n",
              "      <td>17434</td>\n",
              "      <td>11073</td>\n",
              "      <td>2035</td>\n",
              "      <td>...</td>\n",
              "      <td>0</td>\n",
              "      <td>1</td>\n",
              "      <td>0</td>\n",
              "      <td>0</td>\n",
              "      <td>0</td>\n",
              "      <td>3</td>\n",
              "      <td>1</td>\n",
              "      <td>0</td>\n",
              "      <td>0</td>\n",
              "      <td>2</td>\n",
              "    </tr>\n",
              "    <tr>\n",
              "      <th>2</th>\n",
              "      <td>82785</td>\n",
              "      <td>CAR</td>\n",
              "      <td>61609</td>\n",
              "      <td>Wage/Salaries</td>\n",
              "      <td>1</td>\n",
              "      <td>34182</td>\n",
              "      <td>32001</td>\n",
              "      <td>7783</td>\n",
              "      <td>2590</td>\n",
              "      <td>1730</td>\n",
              "      <td>...</td>\n",
              "      <td>0</td>\n",
              "      <td>0</td>\n",
              "      <td>0</td>\n",
              "      <td>0</td>\n",
              "      <td>0</td>\n",
              "      <td>0</td>\n",
              "      <td>0</td>\n",
              "      <td>0</td>\n",
              "      <td>0</td>\n",
              "      <td>0</td>\n",
              "    </tr>\n",
              "  </tbody>\n",
              "</table>\n",
              "<p>3 rows × 60 columns</p>\n",
              "</div>\n",
              "      <button class=\"colab-df-convert\" onclick=\"convertToInteractive('df-89a002e5-5441-48e4-b3c5-f5cc69ea02a5')\"\n",
              "              title=\"Convert this dataframe to an interactive table.\"\n",
              "              style=\"display:none;\">\n",
              "        \n",
              "  <svg xmlns=\"http://www.w3.org/2000/svg\" height=\"24px\"viewBox=\"0 0 24 24\"\n",
              "       width=\"24px\">\n",
              "    <path d=\"M0 0h24v24H0V0z\" fill=\"none\"/>\n",
              "    <path d=\"M18.56 5.44l.94 2.06.94-2.06 2.06-.94-2.06-.94-.94-2.06-.94 2.06-2.06.94zm-11 1L8.5 8.5l.94-2.06 2.06-.94-2.06-.94L8.5 2.5l-.94 2.06-2.06.94zm10 10l.94 2.06.94-2.06 2.06-.94-2.06-.94-.94-2.06-.94 2.06-2.06.94z\"/><path d=\"M17.41 7.96l-1.37-1.37c-.4-.4-.92-.59-1.43-.59-.52 0-1.04.2-1.43.59L10.3 9.45l-7.72 7.72c-.78.78-.78 2.05 0 2.83L4 21.41c.39.39.9.59 1.41.59.51 0 1.02-.2 1.41-.59l7.78-7.78 2.81-2.81c.8-.78.8-2.07 0-2.86zM5.41 20L4 18.59l7.72-7.72 1.47 1.35L5.41 20z\"/>\n",
              "  </svg>\n",
              "      </button>\n",
              "      \n",
              "  <style>\n",
              "    .colab-df-container {\n",
              "      display:flex;\n",
              "      flex-wrap:wrap;\n",
              "      gap: 12px;\n",
              "    }\n",
              "\n",
              "    .colab-df-convert {\n",
              "      background-color: #E8F0FE;\n",
              "      border: none;\n",
              "      border-radius: 50%;\n",
              "      cursor: pointer;\n",
              "      display: none;\n",
              "      fill: #1967D2;\n",
              "      height: 32px;\n",
              "      padding: 0 0 0 0;\n",
              "      width: 32px;\n",
              "    }\n",
              "\n",
              "    .colab-df-convert:hover {\n",
              "      background-color: #E2EBFA;\n",
              "      box-shadow: 0px 1px 2px rgba(60, 64, 67, 0.3), 0px 1px 3px 1px rgba(60, 64, 67, 0.15);\n",
              "      fill: #174EA6;\n",
              "    }\n",
              "\n",
              "    [theme=dark] .colab-df-convert {\n",
              "      background-color: #3B4455;\n",
              "      fill: #D2E3FC;\n",
              "    }\n",
              "\n",
              "    [theme=dark] .colab-df-convert:hover {\n",
              "      background-color: #434B5C;\n",
              "      box-shadow: 0px 1px 3px 1px rgba(0, 0, 0, 0.15);\n",
              "      filter: drop-shadow(0px 1px 2px rgba(0, 0, 0, 0.3));\n",
              "      fill: #FFFFFF;\n",
              "    }\n",
              "  </style>\n",
              "\n",
              "      <script>\n",
              "        const buttonEl =\n",
              "          document.querySelector('#df-89a002e5-5441-48e4-b3c5-f5cc69ea02a5 button.colab-df-convert');\n",
              "        buttonEl.style.display =\n",
              "          google.colab.kernel.accessAllowed ? 'block' : 'none';\n",
              "\n",
              "        async function convertToInteractive(key) {\n",
              "          const element = document.querySelector('#df-89a002e5-5441-48e4-b3c5-f5cc69ea02a5');\n",
              "          const dataTable =\n",
              "            await google.colab.kernel.invokeFunction('convertToInteractive',\n",
              "                                                     [key], {});\n",
              "          if (!dataTable) return;\n",
              "\n",
              "          const docLinkHtml = 'Like what you see? Visit the ' +\n",
              "            '<a target=\"_blank\" href=https://colab.research.google.com/notebooks/data_table.ipynb>data table notebook</a>'\n",
              "            + ' to learn more about interactive tables.';\n",
              "          element.innerHTML = '';\n",
              "          dataTable['output_type'] = 'display_data';\n",
              "          await google.colab.output.renderOutput(dataTable, element);\n",
              "          const docLink = document.createElement('div');\n",
              "          docLink.innerHTML = docLinkHtml;\n",
              "          element.appendChild(docLink);\n",
              "        }\n",
              "      </script>\n",
              "    </div>\n",
              "  </div>\n",
              "  "
            ]
          },
          "metadata": {},
          "execution_count": 71
        }
      ]
    },
    {
      "cell_type": "code",
      "source": [
        "# データセットの準備\n",
        "df.shape"
      ],
      "metadata": {
        "colab": {
          "base_uri": "https://localhost:8080/"
        },
        "id": "Rq4XkSWgRO1M",
        "outputId": "df56a3b2-0559-431a-84a6-38c0a17dc8b2"
      },
      "execution_count": null,
      "outputs": [
        {
          "output_type": "execute_result",
          "data": {
            "text/plain": [
              "(41544, 60)"
            ]
          },
          "metadata": {},
          "execution_count": 72
        }
      ]
    },
    {
      "cell_type": "code",
      "source": [
        "#データの切り分け\n",
        "# x（Total Household Income以外） t(Total Household Income)\n",
        "x = df.drop('Total Household Income', axis=1).values\n",
        "t = df['Total Household Income'].values\n",
        "\n",
        "print(x.shape,t.shape)"
      ],
      "metadata": {
        "colab": {
          "base_uri": "https://localhost:8080/"
        },
        "id": "uIfLcNJfR8FN",
        "outputId": "ed182213-316f-4725-a6c2-b9981377f5b2"
      },
      "execution_count": null,
      "outputs": [
        {
          "output_type": "stream",
          "name": "stdout",
          "text": [
            "(41544, 59) (41544,)\n"
          ]
        }
      ]
    },
    {
      "cell_type": "code",
      "source": [
        "#Q1\n",
        "# 相関係数\n",
        "tmp = df.corr()['Total Household Income']\n",
        "# 絶対値が0.5\n",
        "\n",
        "tmp[np.abs(tmp) > 0.5]"
      ],
      "metadata": {
        "colab": {
          "base_uri": "https://localhost:8080/"
        },
        "id": "w8A9HmzUaUr2",
        "outputId": "22a5e002-06bd-4443-fd05-0819997dbf2b"
      },
      "execution_count": null,
      "outputs": [
        {
          "output_type": "execute_result",
          "data": {
            "text/plain": [
              "Total Household Income                           1.000000\n",
              "Total Food Expenditure                           0.663660\n",
              "Meat Expenditure                                 0.567142\n",
              "Restaurant and hotels Expenditure                0.510017\n",
              "Clothing, Footwear and Other Wear Expenditure    0.605992\n",
              "Housing and water Expenditure                    0.676186\n",
              "Imputed House Rental Value                       0.574091\n",
              "Transportation Expenditure                       0.639939\n",
              "Communication Expenditure                        0.710140\n",
              "Miscellaneous Goods and Services Expenditure     0.666288\n",
              "Total Income from Entrepreneurial Acitivites     0.563662\n",
              "Number of Airconditioner                         0.551994\n",
              "Number of Car, Jeep, Van                         0.546663\n",
              "Number of Personal Computer                      0.557561\n",
              "Name: Total Household Income, dtype: float64"
            ]
          },
          "metadata": {},
          "execution_count": 74
        }
      ]
    },
    {
      "cell_type": "code",
      "source": [
        "#Q2\n",
        "tmp2=df.columns\n",
        "expenditure_list = []\n",
        "\n",
        "for col in df.columns:\n",
        "  # 文字列が含まれるかどうか\n",
        "  if 'Expenditure' in col:\n",
        "      expenditure_list.append(col)\n",
        "\n",
        "# "
      ],
      "metadata": {
        "id": "Uu_fnzGRbc7S"
      },
      "execution_count": null,
      "outputs": []
    },
    {
      "cell_type": "code",
      "source": [
        "len(expenditure_list)"
      ],
      "metadata": {
        "colab": {
          "base_uri": "https://localhost:8080/"
        },
        "id": "3JGXnLcDcf-B",
        "outputId": "2ff8449a-2813-4533-8857-64cd93607d4a"
      },
      "execution_count": null,
      "outputs": [
        {
          "output_type": "execute_result",
          "data": {
            "text/plain": [
              "18"
            ]
          },
          "metadata": {},
          "execution_count": 76
        }
      ]
    },
    {
      "cell_type": "code",
      "source": [
        "#Q3 \n",
        "# 横に長いから正規分布ではない\n",
        "sns.distplot(df['Total Food Expenditure'])"
      ],
      "metadata": {
        "colab": {
          "base_uri": "https://localhost:8080/",
          "height": 362
        },
        "id": "6QgWvAVqedw7",
        "outputId": "cf8837e8-b6ac-40b2-827e-7c8a059705b6"
      },
      "execution_count": null,
      "outputs": [
        {
          "output_type": "stream",
          "name": "stderr",
          "text": [
            "/usr/local/lib/python3.7/dist-packages/seaborn/distributions.py:2619: FutureWarning: `distplot` is a deprecated function and will be removed in a future version. Please adapt your code to use either `displot` (a figure-level function with similar flexibility) or `histplot` (an axes-level function for histograms).\n",
            "  warnings.warn(msg, FutureWarning)\n"
          ]
        },
        {
          "output_type": "execute_result",
          "data": {
            "text/plain": [
              "<matplotlib.axes._subplots.AxesSubplot at 0x7f0bf2ce59d0>"
            ]
          },
          "metadata": {},
          "execution_count": 77
        },
        {
          "output_type": "display_data",
          "data": {
            "text/plain": [
              "<Figure size 432x288 with 1 Axes>"
            ],
            "image/png": "[encoded data removed]"
          },
          "metadata": {
            "needs_background": "light"
          }
        }
      ]
    },
    {
      "cell_type": "code",
      "source": [
        "# 対数変換\n",
        "sns.distplot(np.log1p(df['Total Food Expenditure']))"
      ],
      "metadata": {
        "colab": {
          "base_uri": "https://localhost:8080/",
          "height": 351
        },
        "id": "7le_C9lHe6hi",
        "outputId": "fd393f92-fcbb-4474-8c29-6b98f504459b"
      },
      "execution_count": null,
      "outputs": [
        {
          "output_type": "stream",
          "name": "stderr",
          "text": [
            "/usr/local/lib/python3.7/dist-packages/seaborn/distributions.py:2619: FutureWarning: `distplot` is a deprecated function and will be removed in a future version. Please adapt your code to use either `displot` (a figure-level function with similar flexibility) or `histplot` (an axes-level function for histograms).\n",
            "  warnings.warn(msg, FutureWarning)\n"
          ]
        },
        {
          "output_type": "execute_result",
          "data": {
            "text/plain": [
              "<matplotlib.axes._subplots.AxesSubplot at 0x7f0beca99550>"
            ]
          },
          "metadata": {},
          "execution_count": 78
        },
        {
          "output_type": "display_data",
          "data": {
            "text/plain": [
              "<Figure size 432x288 with 1 Axes>"
            ],
            "image/png": "[encoded data removed]"
          },
          "metadata": {
            "needs_background": "light"
          }
        }
      ]
    },
    {
      "cell_type": "code",
      "source": [
        "food = np.log1p(df['Total Food Expenditure'])\n",
        "# 平均 mean 中央 median\n",
        "mu = food.mean()\n",
        "# 偏差\n",
        "sigma = food.std()\n",
        "\n",
        "# データの数 -　３σ法で分布に収まる数\n",
        "len(food) - len(food[(mu - 3 * sigma <= food) & (food <= mu +3 * sigma)])"
      ],
      "metadata": {
        "colab": {
          "base_uri": "https://localhost:8080/"
        },
        "id": "eMH0X0IMfIbq",
        "outputId": "4d0c6a03-3685-4077-8462-ccb80b2266fb"
      },
      "execution_count": null,
      "outputs": [
        {
          "output_type": "execute_result",
          "data": {
            "text/plain": [
              "204"
            ]
          },
          "metadata": {},
          "execution_count": 79
        }
      ]
    },
    {
      "cell_type": "code",
      "source": [
        "len(food) , len(food[(mu - 3 * sigma <= food) & (food <= mu +3 * sigma)])"
      ],
      "metadata": {
        "colab": {
          "base_uri": "https://localhost:8080/"
        },
        "id": "U7f3E788zrRe",
        "outputId": "7fb1dbd4-8fe9-418b-8519-bc13a4f4eb81"
      },
      "execution_count": null,
      "outputs": [
        {
          "output_type": "execute_result",
          "data": {
            "text/plain": [
              "(41544, 41340)"
            ]
          },
          "metadata": {},
          "execution_count": 80
        }
      ]
    },
    {
      "cell_type": "markdown",
      "source": [
        "#Q4世帯収入（変数名：Total Household Income）を目標値として Lasso を適用した時、重みが 0 となる特徴量をすべて選択せよ\n",
        "\n",
        "- データセット：income_and_expenditure.csv\n",
        "-Q3 で外れ値と見なされたサンプルは除外\n",
        "- 説明変数には、Expenditure という文字が含まれる特徴量をすべて使用（それ以外の特徴量は使用しないこと）\n",
        "- train : test = 7 : 3 に分割\n",
        "- 乱数のシードは 0 で固定すること\n",
        "- Lasso(alpha=1) とすること\n",
        "\n"
      ],
      "metadata": {
        "id": "yviVg5SoysqL"
      }
    },
    {
      "cell_type": "code",
      "source": [
        "# FoodExpenditureの外れ値除去したインデックス\n",
        "indicies = food[(mu - 3 * sigma <= food) & (food <= mu +3 * sigma)]\n",
        "indicies"
      ],
      "metadata": {
        "colab": {
          "base_uri": "https://localhost:8080/"
        },
        "id": "enswCcHLyHRR",
        "outputId": "cefe361e-8d1b-4e4c-a388-d206d8a8c097"
      },
      "execution_count": null,
      "outputs": [
        {
          "output_type": "execute_result",
          "data": {
            "text/plain": [
              "0        11.677159\n",
              "1        11.123831\n",
              "2        11.028579\n",
              "3        11.266897\n",
              "4        11.457688\n",
              "           ...    \n",
              "41539    10.711658\n",
              "41540    10.346826\n",
              "41541    10.733850\n",
              "41542    11.307339\n",
              "41543    11.266974\n",
              "Name: Total Food Expenditure, Length: 41340, dtype: float64"
            ]
          },
          "metadata": {},
          "execution_count": 81
        }
      ]
    },
    {
      "cell_type": "code",
      "source": [
        "# 外れ値除去したインデックスからデータフレームを構築\n",
        "\n",
        "df2 = df.iloc[indicies, :]\n",
        "df2 "
      ],
      "metadata": {
        "colab": {
          "base_uri": "https://localhost:8080/",
          "height": 609
        },
        "id": "KppTYlEsylf4",
        "outputId": "043cf2c4-fc2a-49df-b49c-0c5bea9b3f04"
      },
      "execution_count": null,
      "outputs": [
        {
          "output_type": "execute_result",
          "data": {
            "text/plain": [
              "    Total Household Income Region  Total Food Expenditure  \\\n",
              "11                  253130    CAR                  111250   \n",
              "11                  253130    CAR                  111250   \n",
              "11                  253130    CAR                  111250   \n",
              "11                  253130    CAR                  111250   \n",
              "11                  253130    CAR                  111250   \n",
              "..                     ...    ...                     ...   \n",
              "10                  147005    CAR                   79530   \n",
              "10                  147005    CAR                   79530   \n",
              "10                  147005    CAR                   79530   \n",
              "11                  253130    CAR                  111250   \n",
              "11                  253130    CAR                  111250   \n",
              "\n",
              "         Main Source of Income  Agricultural Household indicator  \\\n",
              "11               Wage/Salaries                                 0   \n",
              "11               Wage/Salaries                                 0   \n",
              "11               Wage/Salaries                                 0   \n",
              "11               Wage/Salaries                                 0   \n",
              "11               Wage/Salaries                                 0   \n",
              "..                         ...                               ...   \n",
              "10  Enterpreneurial Activities                                 1   \n",
              "10  Enterpreneurial Activities                                 1   \n",
              "10  Enterpreneurial Activities                                 1   \n",
              "11               Wage/Salaries                                 0   \n",
              "11               Wage/Salaries                                 0   \n",
              "\n",
              "    Bread and Cereals Expenditure  Total Rice Expenditure  Meat Expenditure  \\\n",
              "11                          46521                   39217             20548   \n",
              "11                          46521                   39217             20548   \n",
              "11                          46521                   39217             20548   \n",
              "11                          46521                   39217             20548   \n",
              "11                          46521                   39217             20548   \n",
              "..                            ...                     ...               ...   \n",
              "10                          36588                   30167             11174   \n",
              "10                          36588                   30167             11174   \n",
              "10                          36588                   30167             11174   \n",
              "11                          46521                   39217             20548   \n",
              "11                          46521                   39217             20548   \n",
              "\n",
              "    Total Fish and  marine products Expenditure  Fruit Expenditure  ...  \\\n",
              "11                                        15841               1475  ...   \n",
              "11                                        15841               1475  ...   \n",
              "11                                        15841               1475  ...   \n",
              "11                                        15841               1475  ...   \n",
              "11                                        15841               1475  ...   \n",
              "..                                          ...                ...  ...   \n",
              "10                                         7674               1709  ...   \n",
              "10                                         7674               1709  ...   \n",
              "10                                         7674               1709  ...   \n",
              "11                                        15841               1475  ...   \n",
              "11                                        15841               1475  ...   \n",
              "\n",
              "    Number of Refrigerator/Freezer  Number of Washing Machine  \\\n",
              "11                               0                          0   \n",
              "11                               0                          0   \n",
              "11                               0                          0   \n",
              "11                               0                          0   \n",
              "11                               0                          0   \n",
              "..                             ...                        ...   \n",
              "10                               1                          0   \n",
              "10                               1                          0   \n",
              "10                               1                          0   \n",
              "11                               0                          0   \n",
              "11                               0                          0   \n",
              "\n",
              "    Number of Airconditioner  Number of Car, Jeep, Van  \\\n",
              "11                         0                         0   \n",
              "11                         0                         0   \n",
              "11                         0                         0   \n",
              "11                         0                         0   \n",
              "11                         0                         0   \n",
              "..                       ...                       ...   \n",
              "10                         0                         0   \n",
              "10                         0                         0   \n",
              "10                         0                         0   \n",
              "11                         0                         0   \n",
              "11                         0                         0   \n",
              "\n",
              "    Number of Landline/wireless telephones  Number of Cellular phone  \\\n",
              "11                                       0                         6   \n",
              "11                                       0                         6   \n",
              "11                                       0                         6   \n",
              "11                                       0                         6   \n",
              "11                                       0                         6   \n",
              "..                                     ...                       ...   \n",
              "10                                       0                         1   \n",
              "10                                       0                         1   \n",
              "10                                       0                         1   \n",
              "11                                       0                         6   \n",
              "11                                       0                         6   \n",
              "\n",
              "    Number of Personal Computer  Number of Stove with Oven/Gas Range  \\\n",
              "11                            0                                    0   \n",
              "11                            0                                    0   \n",
              "11                            0                                    0   \n",
              "11                            0                                    0   \n",
              "11                            0                                    0   \n",
              "..                          ...                                  ...   \n",
              "10                            0                                    0   \n",
              "10                            0                                    0   \n",
              "10                            0                                    0   \n",
              "11                            0                                    0   \n",
              "11                            0                                    0   \n",
              "\n",
              "    Number of Motorized Banca  Number of Motorcycle/Tricycle  \n",
              "11                          0                              0  \n",
              "11                          0                              0  \n",
              "11                          0                              0  \n",
              "11                          0                              0  \n",
              "11                          0                              0  \n",
              "..                        ...                            ...  \n",
              "10                          0                              1  \n",
              "10                          0                              1  \n",
              "10                          0                              1  \n",
              "11                          0                              0  \n",
              "11                          0                              0  \n",
              "\n",
              "[41340 rows x 60 columns]"
            ],
            "text/html": [
              "\n",
              "  <div id=\"df-1e63bb0b-f193-4759-a4cf-e02de7a706b2\">\n",
              "    <div class=\"colab-df-container\">\n",
              "      <div>\n",
              "<style scoped>\n",
              "    .dataframe tbody tr th:only-of-type {\n",
              "        vertical-align: middle;\n",
              "    }\n",
              "\n",
              "    .dataframe tbody tr th {\n",
              "        vertical-align: top;\n",
              "    }\n",
              "\n",
              "    .dataframe thead th {\n",
              "        text-align: right;\n",
              "    }\n",
              "</style>\n",
              "<table border=\"1\" class=\"dataframe\">\n",
              "  <thead>\n",
              "    <tr style=\"text-align: right;\">\n",
              "      <th></th>\n",
              "      <th>Total Household Income</th>\n",
              "      <th>Region</th>\n",
              "      <th>Total Food Expenditure</th>\n",
              "      <th>Main Source of Income</th>\n",
              "      <th>Agricultural Household indicator</th>\n",
              "      <th>Bread and Cereals Expenditure</th>\n",
              "      <th>Total Rice Expenditure</th>\n",
              "      <th>Meat Expenditure</th>\n",
              "      <th>Total Fish and  marine products Expenditure</th>\n",
              "      <th>Fruit Expenditure</th>\n",
              "      <th>...</th>\n",
              "      <th>Number of Refrigerator/Freezer</th>\n",
              "      <th>Number of Washing Machine</th>\n",
              "      <th>Number of Airconditioner</th>\n",
              "      <th>Number of Car, Jeep, Van</th>\n",
              "      <th>Number of Landline/wireless telephones</th>\n",
              "      <th>Number of Cellular phone</th>\n",
              "      <th>Number of Personal Computer</th>\n",
              "      <th>Number of Stove with Oven/Gas Range</th>\n",
              "      <th>Number of Motorized Banca</th>\n",
              "      <th>Number of Motorcycle/Tricycle</th>\n",
              "    </tr>\n",
              "  </thead>\n",
              "  <tbody>\n",
              "    <tr>\n",
              "      <th>11</th>\n",
              "      <td>253130</td>\n",
              "      <td>CAR</td>\n",
              "      <td>111250</td>\n",
              "      <td>Wage/Salaries</td>\n",
              "      <td>0</td>\n",
              "      <td>46521</td>\n",
              "      <td>39217</td>\n",
              "      <td>20548</td>\n",
              "      <td>15841</td>\n",
              "      <td>1475</td>\n",
              "      <td>...</td>\n",
              "      <td>0</td>\n",
              "      <td>0</td>\n",
              "      <td>0</td>\n",
              "      <td>0</td>\n",
              "      <td>0</td>\n",
              "      <td>6</td>\n",
              "      <td>0</td>\n",
              "      <td>0</td>\n",
              "      <td>0</td>\n",
              "      <td>0</td>\n",
              "    </tr>\n",
              "    <tr>\n",
              "      <th>11</th>\n",
              "      <td>253130</td>\n",
              "      <td>CAR</td>\n",
              "      <td>111250</td>\n",
              "      <td>Wage/Salaries</td>\n",
              "      <td>0</td>\n",
              "      <td>46521</td>\n",
              "      <td>39217</td>\n",
              "      <td>20548</td>\n",
              "      <td>15841</td>\n",
              "      <td>1475</td>\n",
              "      <td>...</td>\n",
              "      <td>0</td>\n",
              "      <td>0</td>\n",
              "      <td>0</td>\n",
              "      <td>0</td>\n",
              "      <td>0</td>\n",
              "      <td>6</td>\n",
              "      <td>0</td>\n",
              "      <td>0</td>\n",
              "      <td>0</td>\n",
              "      <td>0</td>\n",
              "    </tr>\n",
              "    <tr>\n",
              "      <th>11</th>\n",
              "      <td>253130</td>\n",
              "      <td>CAR</td>\n",
              "      <td>111250</td>\n",
              "      <td>Wage/Salaries</td>\n",
              "      <td>0</td>\n",
              "      <td>46521</td>\n",
              "      <td>39217</td>\n",
              "      <td>20548</td>\n",
              "      <td>15841</td>\n",
              "      <td>1475</td>\n",
              "      <td>...</td>\n",
              "      <td>0</td>\n",
              "      <td>0</td>\n",
              "      <td>0</td>\n",
              "      <td>0</td>\n",
              "      <td>0</td>\n",
              "      <td>6</td>\n",
              "      <td>0</td>\n",
              "      <td>0</td>\n",
              "      <td>0</td>\n",
              "      <td>0</td>\n",
              "    </tr>\n",
              "    <tr>\n",
              "      <th>11</th>\n",
              "      <td>253130</td>\n",
              "      <td>CAR</td>\n",
              "      <td>111250</td>\n",
              "      <td>Wage/Salaries</td>\n",
              "      <td>0</td>\n",
              "      <td>46521</td>\n",
              "      <td>39217</td>\n",
              "      <td>20548</td>\n",
              "      <td>15841</td>\n",
              "      <td>1475</td>\n",
              "      <td>...</td>\n",
              "      <td>0</td>\n",
              "      <td>0</td>\n",
              "      <td>0</td>\n",
              "      <td>0</td>\n",
              "      <td>0</td>\n",
              "      <td>6</td>\n",
              "      <td>0</td>\n",
              "      <td>0</td>\n",
              "      <td>0</td>\n",
              "      <td>0</td>\n",
              "    </tr>\n",
              "    <tr>\n",
              "      <th>11</th>\n",
              "      <td>253130</td>\n",
              "      <td>CAR</td>\n",
              "      <td>111250</td>\n",
              "      <td>Wage/Salaries</td>\n",
              "      <td>0</td>\n",
              "      <td>46521</td>\n",
              "      <td>39217</td>\n",
              "      <td>20548</td>\n",
              "      <td>15841</td>\n",
              "      <td>1475</td>\n",
              "      <td>...</td>\n",
              "      <td>0</td>\n",
              "      <td>0</td>\n",
              "      <td>0</td>\n",
              "      <td>0</td>\n",
              "      <td>0</td>\n",
              "      <td>6</td>\n",
              "      <td>0</td>\n",
              "      <td>0</td>\n",
              "      <td>0</td>\n",
              "      <td>0</td>\n",
              "    </tr>\n",
              "    <tr>\n",
              "      <th>...</th>\n",
              "      <td>...</td>\n",
              "      <td>...</td>\n",
              "      <td>...</td>\n",
              "      <td>...</td>\n",
              "      <td>...</td>\n",
              "      <td>...</td>\n",
              "      <td>...</td>\n",
              "      <td>...</td>\n",
              "      <td>...</td>\n",
              "      <td>...</td>\n",
              "      <td>...</td>\n",
              "      <td>...</td>\n",
              "      <td>...</td>\n",
              "      <td>...</td>\n",
              "      <td>...</td>\n",
              "      <td>...</td>\n",
              "      <td>...</td>\n",
              "      <td>...</td>\n",
              "      <td>...</td>\n",
              "      <td>...</td>\n",
              "      <td>...</td>\n",
              "    </tr>\n",
              "    <tr>\n",
              "      <th>10</th>\n",
              "      <td>147005</td>\n",
              "      <td>CAR</td>\n",
              "      <td>79530</td>\n",
              "      <td>Enterpreneurial Activities</td>\n",
              "      <td>1</td>\n",
              "      <td>36588</td>\n",
              "      <td>30167</td>\n",
              "      <td>11174</td>\n",
              "      <td>7674</td>\n",
              "      <td>1709</td>\n",
              "      <td>...</td>\n",
              "      <td>1</td>\n",
              "      <td>0</td>\n",
              "      <td>0</td>\n",
              "      <td>0</td>\n",
              "      <td>0</td>\n",
              "      <td>1</td>\n",
              "      <td>0</td>\n",
              "      <td>0</td>\n",
              "      <td>0</td>\n",
              "      <td>1</td>\n",
              "    </tr>\n",
              "    <tr>\n",
              "      <th>10</th>\n",
              "      <td>147005</td>\n",
              "      <td>CAR</td>\n",
              "      <td>79530</td>\n",
              "      <td>Enterpreneurial Activities</td>\n",
              "      <td>1</td>\n",
              "      <td>36588</td>\n",
              "      <td>30167</td>\n",
              "      <td>11174</td>\n",
              "      <td>7674</td>\n",
              "      <td>1709</td>\n",
              "      <td>...</td>\n",
              "      <td>1</td>\n",
              "      <td>0</td>\n",
              "      <td>0</td>\n",
              "      <td>0</td>\n",
              "      <td>0</td>\n",
              "      <td>1</td>\n",
              "      <td>0</td>\n",
              "      <td>0</td>\n",
              "      <td>0</td>\n",
              "      <td>1</td>\n",
              "    </tr>\n",
              "    <tr>\n",
              "      <th>10</th>\n",
              "      <td>147005</td>\n",
              "      <td>CAR</td>\n",
              "      <td>79530</td>\n",
              "      <td>Enterpreneurial Activities</td>\n",
              "      <td>1</td>\n",
              "      <td>36588</td>\n",
              "      <td>30167</td>\n",
              "      <td>11174</td>\n",
              "      <td>7674</td>\n",
              "      <td>1709</td>\n",
              "      <td>...</td>\n",
              "      <td>1</td>\n",
              "      <td>0</td>\n",
              "      <td>0</td>\n",
              "      <td>0</td>\n",
              "      <td>0</td>\n",
              "      <td>1</td>\n",
              "      <td>0</td>\n",
              "      <td>0</td>\n",
              "      <td>0</td>\n",
              "      <td>1</td>\n",
              "    </tr>\n",
              "    <tr>\n",
              "      <th>11</th>\n",
              "      <td>253130</td>\n",
              "      <td>CAR</td>\n",
              "      <td>111250</td>\n",
              "      <td>Wage/Salaries</td>\n",
              "      <td>0</td>\n",
              "      <td>46521</td>\n",
              "      <td>39217</td>\n",
              "      <td>20548</td>\n",
              "      <td>15841</td>\n",
              "      <td>1475</td>\n",
              "      <td>...</td>\n",
              "      <td>0</td>\n",
              "      <td>0</td>\n",
              "      <td>0</td>\n",
              "      <td>0</td>\n",
              "      <td>0</td>\n",
              "      <td>6</td>\n",
              "      <td>0</td>\n",
              "      <td>0</td>\n",
              "      <td>0</td>\n",
              "      <td>0</td>\n",
              "    </tr>\n",
              "    <tr>\n",
              "      <th>11</th>\n",
              "      <td>253130</td>\n",
              "      <td>CAR</td>\n",
              "      <td>111250</td>\n",
              "      <td>Wage/Salaries</td>\n",
              "      <td>0</td>\n",
              "      <td>46521</td>\n",
              "      <td>39217</td>\n",
              "      <td>20548</td>\n",
              "      <td>15841</td>\n",
              "      <td>1475</td>\n",
              "      <td>...</td>\n",
              "      <td>0</td>\n",
              "      <td>0</td>\n",
              "      <td>0</td>\n",
              "      <td>0</td>\n",
              "      <td>0</td>\n",
              "      <td>6</td>\n",
              "      <td>0</td>\n",
              "      <td>0</td>\n",
              "      <td>0</td>\n",
              "      <td>0</td>\n",
              "    </tr>\n",
              "  </tbody>\n",
              "</table>\n",
              "<p>41340 rows × 60 columns</p>\n",
              "</div>\n",
              "      <button class=\"colab-df-convert\" onclick=\"convertToInteractive('df-1e63bb0b-f193-4759-a4cf-e02de7a706b2')\"\n",
              "              title=\"Convert this dataframe to an interactive table.\"\n",
              "              style=\"display:none;\">\n",
              "        \n",
              "  <svg xmlns=\"http://www.w3.org/2000/svg\" height=\"24px\"viewBox=\"0 0 24 24\"\n",
              "       width=\"24px\">\n",
              "    <path d=\"M0 0h24v24H0V0z\" fill=\"none\"/>\n",
              "    <path d=\"M18.56 5.44l.94 2.06.94-2.06 2.06-.94-2.06-.94-.94-2.06-.94 2.06-2.06.94zm-11 1L8.5 8.5l.94-2.06 2.06-.94-2.06-.94L8.5 2.5l-.94 2.06-2.06.94zm10 10l.94 2.06.94-2.06 2.06-.94-2.06-.94-.94-2.06-.94 2.06-2.06.94z\"/><path d=\"M17.41 7.96l-1.37-1.37c-.4-.4-.92-.59-1.43-.59-.52 0-1.04.2-1.43.59L10.3 9.45l-7.72 7.72c-.78.78-.78 2.05 0 2.83L4 21.41c.39.39.9.59 1.41.59.51 0 1.02-.2 1.41-.59l7.78-7.78 2.81-2.81c.8-.78.8-2.07 0-2.86zM5.41 20L4 18.59l7.72-7.72 1.47 1.35L5.41 20z\"/>\n",
              "  </svg>\n",
              "      </button>\n",
              "      \n",
              "  <style>\n",
              "    .colab-df-container {\n",
              "      display:flex;\n",
              "      flex-wrap:wrap;\n",
              "      gap: 12px;\n",
              "    }\n",
              "\n",
              "    .colab-df-convert {\n",
              "      background-color: #E8F0FE;\n",
              "      border: none;\n",
              "      border-radius: 50%;\n",
              "      cursor: pointer;\n",
              "      display: none;\n",
              "      fill: #1967D2;\n",
              "      height: 32px;\n",
              "      padding: 0 0 0 0;\n",
              "      width: 32px;\n",
              "    }\n",
              "\n",
              "    .colab-df-convert:hover {\n",
              "      background-color: #E2EBFA;\n",
              "      box-shadow: 0px 1px 2px rgba(60, 64, 67, 0.3), 0px 1px 3px 1px rgba(60, 64, 67, 0.15);\n",
              "      fill: #174EA6;\n",
              "    }\n",
              "\n",
              "    [theme=dark] .colab-df-convert {\n",
              "      background-color: #3B4455;\n",
              "      fill: #D2E3FC;\n",
              "    }\n",
              "\n",
              "    [theme=dark] .colab-df-convert:hover {\n",
              "      background-color: #434B5C;\n",
              "      box-shadow: 0px 1px 3px 1px rgba(0, 0, 0, 0.15);\n",
              "      filter: drop-shadow(0px 1px 2px rgba(0, 0, 0, 0.3));\n",
              "      fill: #FFFFFF;\n",
              "    }\n",
              "  </style>\n",
              "\n",
              "      <script>\n",
              "        const buttonEl =\n",
              "          document.querySelector('#df-1e63bb0b-f193-4759-a4cf-e02de7a706b2 button.colab-df-convert');\n",
              "        buttonEl.style.display =\n",
              "          google.colab.kernel.accessAllowed ? 'block' : 'none';\n",
              "\n",
              "        async function convertToInteractive(key) {\n",
              "          const element = document.querySelector('#df-1e63bb0b-f193-4759-a4cf-e02de7a706b2');\n",
              "          const dataTable =\n",
              "            await google.colab.kernel.invokeFunction('convertToInteractive',\n",
              "                                                     [key], {});\n",
              "          if (!dataTable) return;\n",
              "\n",
              "          const docLinkHtml = 'Like what you see? Visit the ' +\n",
              "            '<a target=\"_blank\" href=https://colab.research.google.com/notebooks/data_table.ipynb>data table notebook</a>'\n",
              "            + ' to learn more about interactive tables.';\n",
              "          element.innerHTML = '';\n",
              "          dataTable['output_type'] = 'display_data';\n",
              "          await google.colab.output.renderOutput(dataTable, element);\n",
              "          const docLink = document.createElement('div');\n",
              "          docLink.innerHTML = docLinkHtml;\n",
              "          element.appendChild(docLink);\n",
              "        }\n",
              "      </script>\n",
              "    </div>\n",
              "  </div>\n",
              "  "
            ]
          },
          "metadata": {},
          "execution_count": 85
        }
      ]
    },
    {
      "cell_type": "code",
      "source": [
        "# locとは文字列の列名で指定し特定の特徴量のみを取得　説明変数＝入力値として使う\n",
        "x = df2.loc[:,expenditure_list]\n",
        "\n",
        "t = df2['Total Household Income']"
      ],
      "metadata": {
        "id": "Lmtkx1agz9tl"
      },
      "execution_count": null,
      "outputs": []
    },
    {
      "cell_type": "code",
      "source": [
        "x_train,x_test, t_train,t_test = train_test_split(x,t, test_size=0.3,random_state=0)"
      ],
      "metadata": {
        "id": "0bYDfJT-0-jV"
      },
      "execution_count": null,
      "outputs": []
    },
    {
      "cell_type": "code",
      "source": [
        "from sklearn.linear_model import Lasso\n",
        "lasso = Lasso(alpha=1)"
      ],
      "metadata": {
        "id": "_HdQC1ps1gFA"
      },
      "execution_count": null,
      "outputs": []
    },
    {
      "cell_type": "code",
      "source": [
        "lasso.fit(x_train,t_train)"
      ],
      "metadata": {
        "colab": {
          "base_uri": "https://localhost:8080/"
        },
        "id": "BwLBp9iz1zXH",
        "outputId": "c1417980-bcdf-4e12-9e09-5f4cbbbc72cb"
      },
      "execution_count": null,
      "outputs": [
        {
          "output_type": "execute_result",
          "data": {
            "text/plain": [
              "Lasso(alpha=1)"
            ]
          },
          "metadata": {},
          "execution_count": 94
        }
      ]
    },
    {
      "cell_type": "code",
      "source": [
        "model.coef_"
      ],
      "metadata": {
        "id": "Wp41w-I-1-Ul",
        "outputId": "aadcea6c-3486-4ecd-b111-33ce644b55c4",
        "colab": {
          "base_uri": "https://localhost:8080/"
        }
      },
      "execution_count": null,
      "outputs": [
        {
          "output_type": "execute_result",
          "data": {
            "text/plain": [
              "array([-1.21310401e-01,  4.44664254e-02,  1.13416945e-02,  2.51124642e+00,\n",
              "       -1.62312529e+01,  3.85906801e+00, -9.98516565e-03, -1.50026956e+00,\n",
              "        2.42143466e-01, -1.10716124e-02, -1.01775264e+00,  6.81446545e-03,\n",
              "       -4.86738066e-01])"
            ]
          },
          "metadata": {},
          "execution_count": 95
        }
      ]
    },
    {
      "cell_type": "code",
      "source": [
        "# カテゴリカル変数を含んだデータのみを抽出\n",
        "df_obj = df.select_dtypes(include='object')\n",
        "df_obj.head(3)"
      ],
      "metadata": {
        "id": "TA0NdUo5XUvg"
      },
      "execution_count": null,
      "outputs": []
    },
    {
      "cell_type": "code",
      "source": [
        "df_uni = df_obj.nunique()\n",
        "df_uni"
      ],
      "metadata": {
        "id": "6LrC9oD1XcD2"
      },
      "execution_count": null,
      "outputs": []
    },
    {
      "cell_type": "code",
      "source": [
        "df.duplicated(keep=False).value_counts()"
      ],
      "metadata": {
        "id": "MmeDEFTaWFiq"
      },
      "execution_count": null,
      "outputs": []
    },
    {
      "cell_type": "code",
      "source": [
        "# モデルの宣言\n",
        "from sklearn.preprocessing import LabelEncoder\n",
        "le = LabelEncoder()"
      ],
      "metadata": {
        "id": "g6fQI4SBXnic"
      },
      "execution_count": null,
      "outputs": []
    },
    {
      "cell_type": "code",
      "source": [
        "le.fit(df['Region'])"
      ],
      "metadata": {
        "id": "0syiqupFXsB-"
      },
      "execution_count": null,
      "outputs": []
    },
    {
      "cell_type": "code",
      "source": [
        "df_uni = df_obj.nunique()\n",
        "df_uni"
      ],
      "metadata": {
        "id": "nj6Tw9tgYBBm"
      },
      "execution_count": null,
      "outputs": []
    },
    {
      "cell_type": "code",
      "source": [
        "df.isnull().sum()"
      ],
      "metadata": {
        "id": "ziKvaUV_VDCp"
      },
      "execution_count": null,
      "outputs": []
    },
    {
      "cell_type": "code",
      "source": [
        "df_obj = le.select_dtypes(include='object')\n",
        "df_obj.head(3)"
      ],
      "metadata": {
        "id": "4CS5K9qGWfC8"
      },
      "execution_count": null,
      "outputs": []
    },
    {
      "cell_type": "code",
      "source": [
        "# 学習用データとテスト用データの切り分け テスト用でーた30% シード値０\n",
        "from sklearn.model_selection import train_test_split\n",
        "\n",
        "x_train, x_test, t_train, t_test =  train_test_split(x, t, test_size=0.3, random_state=0)"
      ],
      "metadata": {
        "id": "OpS3Ub_5So4s"
      },
      "execution_count": null,
      "outputs": []
    },
    {
      "cell_type": "code",
      "source": [
        "# モデルの定義 線形モデル\n",
        "\n",
        "from sklearn.linear_model import LinearRegression\n",
        "model = LinearRegression()"
      ],
      "metadata": {
        "id": "Y4OF9MO_RXnb"
      },
      "execution_count": null,
      "outputs": []
    },
    {
      "cell_type": "code",
      "source": [
        "# モデルの学習\n",
        "model.fit(x_train,t_train)"
      ],
      "metadata": {
        "id": "l-PWSu2PRZ95"
      },
      "execution_count": null,
      "outputs": []
    },
    {
      "cell_type": "code",
      "source": [
        "# モデルの検証"
      ],
      "metadata": {
        "id": "QzY1uT4mRbm6"
      },
      "execution_count": null,
      "outputs": []
    },
    {
      "cell_type": "code",
      "source": [
        "# 相関係数の算出\n"
      ],
      "metadata": {
        "id": "MECEw1d0RdhH"
      },
      "execution_count": null,
      "outputs": []
    }
  ]
}