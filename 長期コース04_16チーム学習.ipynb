{
  "nbformat": 4,
  "nbformat_minor": 0,
  "metadata": {
    "colab": {
      "name": "長期コース04_16チーム学習.ipynb",
      "provenance": [],
      "mount_file_id": "1i6Rq24unGDFUKoKfIJQBw-0sGeWTSkOv",
      "authorship_tag": "ABX9TyN8mx/9IikmF4nUSkTQT9AZ",
      "include_colab_link": true
    },
    "kernelspec": {
      "name": "python3",
      "display_name": "Python 3"
    },
    "language_info": {
      "name": "python"
    }
  },
  "cells": [
    {
      "cell_type": "markdown",
      "metadata": {
        "id": "view-in-github",
        "colab_type": "text"
      },
      "source": [
        "<a href=\"https://colab.research.google.com/github/suyasuyao/Kikagaku-Tyouki-Colab/blob/main/%E9%95%B7%E6%9C%9F%E3%82%B3%E3%83%BC%E3%82%B904_16%E3%83%81%E3%83%BC%E3%83%A0%E5%AD%A6%E7%BF%92.ipynb\" target=\"_parent\"><img src=\"https://colab.research.google.com/assets/colab-badge.svg\" alt=\"Open In Colab\"/></a>"
      ]
    },
    {
      "cell_type": "markdown",
      "source": [
        "アヤメの計測データから三種類のアヤメの品種を分類するモデルを作成していただきます\n",
        "\n",
        "最も有名なアヤメの品種を分類する問題です。初学者はまずはここからチャレンジしましょう。\n",
        "\n",
        "本コンペを活用して、SIGNATEでのデータ解析・モデル構築を体験してください。\n",
        "\n",
        "\n",
        "データ概要\n",
        "\n",
        "課題種別：分類\n",
        "データ種別：多変量\n",
        "学習データサンプル数：75\n",
        "説明変数の数：4\n",
        "欠損値：無し"
      ],
      "metadata": {
        "id": "X-R8UEZ54trS"
      }
    },
    {
      "cell_type": "markdown",
      "source": [
        "- 流れ\n",
        "  - データの準備\n",
        "  - データの前処理\n",
        "  - データの切り分け（入力データ　目標値）\n",
        "  - モデルの学習\n",
        "  - モデルの評価 "
      ],
      "metadata": {
        "id": "eyatiIxw_slS"
      }
    },
    {
      "cell_type": "code",
      "source": [
        "## データの準備\n",
        "import numpy as np\n",
        "import pandas as pd\n",
        "import matplotlib.pyplot as plt\n",
        "import seaborn as sns\n",
        "from sklearn.datasets import load_iris\n"
      ],
      "metadata": {
        "id": "LSYf3E0fBHZ9"
      },
      "execution_count": 1,
      "outputs": []
    },
    {
      "cell_type": "code",
      "source": [
        "df_train = pd.read_table('/content/drive/MyDrive/Colab Notebooks/kikagaku_long/0416_team/train.tsv')\n",
        "df_test = pd.read_table('/content/drive/MyDrive/Colab Notebooks/kikagaku_long/0416_team/test.tsv')"
      ],
      "metadata": {
        "id": "Cxjx_DNUBOPf"
      },
      "execution_count": 2,
      "outputs": []
    },
    {
      "cell_type": "code",
      "source": [
        "df_train"
      ],
      "metadata": {
        "colab": {
          "base_uri": "https://localhost:8080/",
          "height": 424
        },
        "id": "yx6wl59FBsyo",
        "outputId": "cead0866-b312-40bb-a7c6-efe67648c40c"
      },
      "execution_count": 3,
      "outputs": [
        {
          "output_type": "execute_result",
          "data": {
            "text/plain": [
              "     id  sepal length in cm  sepal width in cm  petal length in cm  \\\n",
              "0     0                 5.3                3.7                 1.5   \n",
              "1     1                 6.8                2.8                 4.8   \n",
              "2     3                 6.1                3.0                 4.9   \n",
              "3     4                 6.4                3.2                 5.3   \n",
              "4     5                 6.3                3.3                 4.7   \n",
              "..  ...                 ...                ...                 ...   \n",
              "70  142                 6.4                3.2                 4.5   \n",
              "71  143                 5.4                3.9                 1.7   \n",
              "72  145                 5.6                3.0                 4.1   \n",
              "73  148                 5.2                2.7                 3.9   \n",
              "74  149                 6.9                3.1                 5.1   \n",
              "\n",
              "    petal width in cm            class  \n",
              "0                 0.2      Iris-setosa  \n",
              "1                 1.4  Iris-versicolor  \n",
              "2                 1.8   Iris-virginica  \n",
              "3                 2.3   Iris-virginica  \n",
              "4                 1.6  Iris-versicolor  \n",
              "..                ...              ...  \n",
              "70                1.5  Iris-versicolor  \n",
              "71                0.4      Iris-setosa  \n",
              "72                1.3  Iris-versicolor  \n",
              "73                1.4  Iris-versicolor  \n",
              "74                2.3   Iris-virginica  \n",
              "\n",
              "[75 rows x 6 columns]"
            ],
            "text/html": [
              "\n",
              "  <div id=\"df-dfa5ff83-72c5-4d92-9487-1b09e2f2ca2c\">\n",
              "    <div class=\"colab-df-container\">\n",
              "      <div>\n",
              "<style scoped>\n",
              "    .dataframe tbody tr th:only-of-type {\n",
              "        vertical-align: middle;\n",
              "    }\n",
              "\n",
              "    .dataframe tbody tr th {\n",
              "        vertical-align: top;\n",
              "    }\n",
              "\n",
              "    .dataframe thead th {\n",
              "        text-align: right;\n",
              "    }\n",
              "</style>\n",
              "<table border=\"1\" class=\"dataframe\">\n",
              "  <thead>\n",
              "    <tr style=\"text-align: right;\">\n",
              "      <th></th>\n",
              "      <th>id</th>\n",
              "      <th>sepal length in cm</th>\n",
              "      <th>sepal width in cm</th>\n",
              "      <th>petal length in cm</th>\n",
              "      <th>petal width in cm</th>\n",
              "      <th>class</th>\n",
              "    </tr>\n",
              "  </thead>\n",
              "  <tbody>\n",
              "    <tr>\n",
              "      <th>0</th>\n",
              "      <td>0</td>\n",
              "      <td>5.3</td>\n",
              "      <td>3.7</td>\n",
              "      <td>1.5</td>\n",
              "      <td>0.2</td>\n",
              "      <td>Iris-setosa</td>\n",
              "    </tr>\n",
              "    <tr>\n",
              "      <th>1</th>\n",
              "      <td>1</td>\n",
              "      <td>6.8</td>\n",
              "      <td>2.8</td>\n",
              "      <td>4.8</td>\n",
              "      <td>1.4</td>\n",
              "      <td>Iris-versicolor</td>\n",
              "    </tr>\n",
              "    <tr>\n",
              "      <th>2</th>\n",
              "      <td>3</td>\n",
              "      <td>6.1</td>\n",
              "      <td>3.0</td>\n",
              "      <td>4.9</td>\n",
              "      <td>1.8</td>\n",
              "      <td>Iris-virginica</td>\n",
              "    </tr>\n",
              "    <tr>\n",
              "      <th>3</th>\n",
              "      <td>4</td>\n",
              "      <td>6.4</td>\n",
              "      <td>3.2</td>\n",
              "      <td>5.3</td>\n",
              "      <td>2.3</td>\n",
              "      <td>Iris-virginica</td>\n",
              "    </tr>\n",
              "    <tr>\n",
              "      <th>4</th>\n",
              "      <td>5</td>\n",
              "      <td>6.3</td>\n",
              "      <td>3.3</td>\n",
              "      <td>4.7</td>\n",
              "      <td>1.6</td>\n",
              "      <td>Iris-versicolor</td>\n",
              "    </tr>\n",
              "    <tr>\n",
              "      <th>...</th>\n",
              "      <td>...</td>\n",
              "      <td>...</td>\n",
              "      <td>...</td>\n",
              "      <td>...</td>\n",
              "      <td>...</td>\n",
              "      <td>...</td>\n",
              "    </tr>\n",
              "    <tr>\n",
              "      <th>70</th>\n",
              "      <td>142</td>\n",
              "      <td>6.4</td>\n",
              "      <td>3.2</td>\n",
              "      <td>4.5</td>\n",
              "      <td>1.5</td>\n",
              "      <td>Iris-versicolor</td>\n",
              "    </tr>\n",
              "    <tr>\n",
              "      <th>71</th>\n",
              "      <td>143</td>\n",
              "      <td>5.4</td>\n",
              "      <td>3.9</td>\n",
              "      <td>1.7</td>\n",
              "      <td>0.4</td>\n",
              "      <td>Iris-setosa</td>\n",
              "    </tr>\n",
              "    <tr>\n",
              "      <th>72</th>\n",
              "      <td>145</td>\n",
              "      <td>5.6</td>\n",
              "      <td>3.0</td>\n",
              "      <td>4.1</td>\n",
              "      <td>1.3</td>\n",
              "      <td>Iris-versicolor</td>\n",
              "    </tr>\n",
              "    <tr>\n",
              "      <th>73</th>\n",
              "      <td>148</td>\n",
              "      <td>5.2</td>\n",
              "      <td>2.7</td>\n",
              "      <td>3.9</td>\n",
              "      <td>1.4</td>\n",
              "      <td>Iris-versicolor</td>\n",
              "    </tr>\n",
              "    <tr>\n",
              "      <th>74</th>\n",
              "      <td>149</td>\n",
              "      <td>6.9</td>\n",
              "      <td>3.1</td>\n",
              "      <td>5.1</td>\n",
              "      <td>2.3</td>\n",
              "      <td>Iris-virginica</td>\n",
              "    </tr>\n",
              "  </tbody>\n",
              "</table>\n",
              "<p>75 rows × 6 columns</p>\n",
              "</div>\n",
              "      <button class=\"colab-df-convert\" onclick=\"convertToInteractive('df-dfa5ff83-72c5-4d92-9487-1b09e2f2ca2c')\"\n",
              "              title=\"Convert this dataframe to an interactive table.\"\n",
              "              style=\"display:none;\">\n",
              "        \n",
              "  <svg xmlns=\"http://www.w3.org/2000/svg\" height=\"24px\"viewBox=\"0 0 24 24\"\n",
              "       width=\"24px\">\n",
              "    <path d=\"M0 0h24v24H0V0z\" fill=\"none\"/>\n",
              "    <path d=\"M18.56 5.44l.94 2.06.94-2.06 2.06-.94-2.06-.94-.94-2.06-.94 2.06-2.06.94zm-11 1L8.5 8.5l.94-2.06 2.06-.94-2.06-.94L8.5 2.5l-.94 2.06-2.06.94zm10 10l.94 2.06.94-2.06 2.06-.94-2.06-.94-.94-2.06-.94 2.06-2.06.94z\"/><path d=\"M17.41 7.96l-1.37-1.37c-.4-.4-.92-.59-1.43-.59-.52 0-1.04.2-1.43.59L10.3 9.45l-7.72 7.72c-.78.78-.78 2.05 0 2.83L4 21.41c.39.39.9.59 1.41.59.51 0 1.02-.2 1.41-.59l7.78-7.78 2.81-2.81c.8-.78.8-2.07 0-2.86zM5.41 20L4 18.59l7.72-7.72 1.47 1.35L5.41 20z\"/>\n",
              "  </svg>\n",
              "      </button>\n",
              "      \n",
              "  <style>\n",
              "    .colab-df-container {\n",
              "      display:flex;\n",
              "      flex-wrap:wrap;\n",
              "      gap: 12px;\n",
              "    }\n",
              "\n",
              "    .colab-df-convert {\n",
              "      background-color: #E8F0FE;\n",
              "      border: none;\n",
              "      border-radius: 50%;\n",
              "      cursor: pointer;\n",
              "      display: none;\n",
              "      fill: #1967D2;\n",
              "      height: 32px;\n",
              "      padding: 0 0 0 0;\n",
              "      width: 32px;\n",
              "    }\n",
              "\n",
              "    .colab-df-convert:hover {\n",
              "      background-color: #E2EBFA;\n",
              "      box-shadow: 0px 1px 2px rgba(60, 64, 67, 0.3), 0px 1px 3px 1px rgba(60, 64, 67, 0.15);\n",
              "      fill: #174EA6;\n",
              "    }\n",
              "\n",
              "    [theme=dark] .colab-df-convert {\n",
              "      background-color: #3B4455;\n",
              "      fill: #D2E3FC;\n",
              "    }\n",
              "\n",
              "    [theme=dark] .colab-df-convert:hover {\n",
              "      background-color: #434B5C;\n",
              "      box-shadow: 0px 1px 3px 1px rgba(0, 0, 0, 0.15);\n",
              "      filter: drop-shadow(0px 1px 2px rgba(0, 0, 0, 0.3));\n",
              "      fill: #FFFFFF;\n",
              "    }\n",
              "  </style>\n",
              "\n",
              "      <script>\n",
              "        const buttonEl =\n",
              "          document.querySelector('#df-dfa5ff83-72c5-4d92-9487-1b09e2f2ca2c button.colab-df-convert');\n",
              "        buttonEl.style.display =\n",
              "          google.colab.kernel.accessAllowed ? 'block' : 'none';\n",
              "\n",
              "        async function convertToInteractive(key) {\n",
              "          const element = document.querySelector('#df-dfa5ff83-72c5-4d92-9487-1b09e2f2ca2c');\n",
              "          const dataTable =\n",
              "            await google.colab.kernel.invokeFunction('convertToInteractive',\n",
              "                                                     [key], {});\n",
              "          if (!dataTable) return;\n",
              "\n",
              "          const docLinkHtml = 'Like what you see? Visit the ' +\n",
              "            '<a target=\"_blank\" href=https://colab.research.google.com/notebooks/data_table.ipynb>data table notebook</a>'\n",
              "            + ' to learn more about interactive tables.';\n",
              "          element.innerHTML = '';\n",
              "          dataTable['output_type'] = 'display_data';\n",
              "          await google.colab.output.renderOutput(dataTable, element);\n",
              "          const docLink = document.createElement('div');\n",
              "          docLink.innerHTML = docLinkHtml;\n",
              "          element.appendChild(docLink);\n",
              "        }\n",
              "      </script>\n",
              "    </div>\n",
              "  </div>\n",
              "  "
            ]
          },
          "metadata": {},
          "execution_count": 3
        }
      ]
    },
    {
      "cell_type": "code",
      "source": [
        "df_test"
      ],
      "metadata": {
        "colab": {
          "base_uri": "https://localhost:8080/",
          "height": 424
        },
        "id": "HdLq3-nPCwp6",
        "outputId": "ae851d62-862a-4834-953d-6904a48fd15b"
      },
      "execution_count": 4,
      "outputs": [
        {
          "output_type": "execute_result",
          "data": {
            "text/plain": [
              "     id  sepal length in cm  sepal width in cm  petal length in cm  \\\n",
              "0     2                 6.1                2.8                 4.7   \n",
              "1     7                 6.3                2.5                 4.9   \n",
              "2     8                 6.2                3.4                 5.4   \n",
              "3    10                 6.7                3.1                 4.7   \n",
              "4    13                 5.0                3.4                 1.6   \n",
              "..  ...                 ...                ...                 ...   \n",
              "70  137                 5.8                2.6                 4.0   \n",
              "71  141                 5.1                3.5                 1.4   \n",
              "72  144                 6.2                2.2                 4.5   \n",
              "73  146                 6.5                3.0                 5.2   \n",
              "74  147                 5.2                3.5                 1.5   \n",
              "\n",
              "    petal width in cm  \n",
              "0                 1.2  \n",
              "1                 1.5  \n",
              "2                 2.3  \n",
              "3                 1.5  \n",
              "4                 0.4  \n",
              "..                ...  \n",
              "70                1.2  \n",
              "71                0.2  \n",
              "72                1.5  \n",
              "73                2.0  \n",
              "74                0.2  \n",
              "\n",
              "[75 rows x 5 columns]"
            ],
            "text/html": [
              "\n",
              "  <div id=\"df-27159206-e1fd-4a3e-a7e3-06fa67e293b0\">\n",
              "    <div class=\"colab-df-container\">\n",
              "      <div>\n",
              "<style scoped>\n",
              "    .dataframe tbody tr th:only-of-type {\n",
              "        vertical-align: middle;\n",
              "    }\n",
              "\n",
              "    .dataframe tbody tr th {\n",
              "        vertical-align: top;\n",
              "    }\n",
              "\n",
              "    .dataframe thead th {\n",
              "        text-align: right;\n",
              "    }\n",
              "</style>\n",
              "<table border=\"1\" class=\"dataframe\">\n",
              "  <thead>\n",
              "    <tr style=\"text-align: right;\">\n",
              "      <th></th>\n",
              "      <th>id</th>\n",
              "      <th>sepal length in cm</th>\n",
              "      <th>sepal width in cm</th>\n",
              "      <th>petal length in cm</th>\n",
              "      <th>petal width in cm</th>\n",
              "    </tr>\n",
              "  </thead>\n",
              "  <tbody>\n",
              "    <tr>\n",
              "      <th>0</th>\n",
              "      <td>2</td>\n",
              "      <td>6.1</td>\n",
              "      <td>2.8</td>\n",
              "      <td>4.7</td>\n",
              "      <td>1.2</td>\n",
              "    </tr>\n",
              "    <tr>\n",
              "      <th>1</th>\n",
              "      <td>7</td>\n",
              "      <td>6.3</td>\n",
              "      <td>2.5</td>\n",
              "      <td>4.9</td>\n",
              "      <td>1.5</td>\n",
              "    </tr>\n",
              "    <tr>\n",
              "      <th>2</th>\n",
              "      <td>8</td>\n",
              "      <td>6.2</td>\n",
              "      <td>3.4</td>\n",
              "      <td>5.4</td>\n",
              "      <td>2.3</td>\n",
              "    </tr>\n",
              "    <tr>\n",
              "      <th>3</th>\n",
              "      <td>10</td>\n",
              "      <td>6.7</td>\n",
              "      <td>3.1</td>\n",
              "      <td>4.7</td>\n",
              "      <td>1.5</td>\n",
              "    </tr>\n",
              "    <tr>\n",
              "      <th>4</th>\n",
              "      <td>13</td>\n",
              "      <td>5.0</td>\n",
              "      <td>3.4</td>\n",
              "      <td>1.6</td>\n",
              "      <td>0.4</td>\n",
              "    </tr>\n",
              "    <tr>\n",
              "      <th>...</th>\n",
              "      <td>...</td>\n",
              "      <td>...</td>\n",
              "      <td>...</td>\n",
              "      <td>...</td>\n",
              "      <td>...</td>\n",
              "    </tr>\n",
              "    <tr>\n",
              "      <th>70</th>\n",
              "      <td>137</td>\n",
              "      <td>5.8</td>\n",
              "      <td>2.6</td>\n",
              "      <td>4.0</td>\n",
              "      <td>1.2</td>\n",
              "    </tr>\n",
              "    <tr>\n",
              "      <th>71</th>\n",
              "      <td>141</td>\n",
              "      <td>5.1</td>\n",
              "      <td>3.5</td>\n",
              "      <td>1.4</td>\n",
              "      <td>0.2</td>\n",
              "    </tr>\n",
              "    <tr>\n",
              "      <th>72</th>\n",
              "      <td>144</td>\n",
              "      <td>6.2</td>\n",
              "      <td>2.2</td>\n",
              "      <td>4.5</td>\n",
              "      <td>1.5</td>\n",
              "    </tr>\n",
              "    <tr>\n",
              "      <th>73</th>\n",
              "      <td>146</td>\n",
              "      <td>6.5</td>\n",
              "      <td>3.0</td>\n",
              "      <td>5.2</td>\n",
              "      <td>2.0</td>\n",
              "    </tr>\n",
              "    <tr>\n",
              "      <th>74</th>\n",
              "      <td>147</td>\n",
              "      <td>5.2</td>\n",
              "      <td>3.5</td>\n",
              "      <td>1.5</td>\n",
              "      <td>0.2</td>\n",
              "    </tr>\n",
              "  </tbody>\n",
              "</table>\n",
              "<p>75 rows × 5 columns</p>\n",
              "</div>\n",
              "      <button class=\"colab-df-convert\" onclick=\"convertToInteractive('df-27159206-e1fd-4a3e-a7e3-06fa67e293b0')\"\n",
              "              title=\"Convert this dataframe to an interactive table.\"\n",
              "              style=\"display:none;\">\n",
              "        \n",
              "  <svg xmlns=\"http://www.w3.org/2000/svg\" height=\"24px\"viewBox=\"0 0 24 24\"\n",
              "       width=\"24px\">\n",
              "    <path d=\"M0 0h24v24H0V0z\" fill=\"none\"/>\n",
              "    <path d=\"M18.56 5.44l.94 2.06.94-2.06 2.06-.94-2.06-.94-.94-2.06-.94 2.06-2.06.94zm-11 1L8.5 8.5l.94-2.06 2.06-.94-2.06-.94L8.5 2.5l-.94 2.06-2.06.94zm10 10l.94 2.06.94-2.06 2.06-.94-2.06-.94-.94-2.06-.94 2.06-2.06.94z\"/><path d=\"M17.41 7.96l-1.37-1.37c-.4-.4-.92-.59-1.43-.59-.52 0-1.04.2-1.43.59L10.3 9.45l-7.72 7.72c-.78.78-.78 2.05 0 2.83L4 21.41c.39.39.9.59 1.41.59.51 0 1.02-.2 1.41-.59l7.78-7.78 2.81-2.81c.8-.78.8-2.07 0-2.86zM5.41 20L4 18.59l7.72-7.72 1.47 1.35L5.41 20z\"/>\n",
              "  </svg>\n",
              "      </button>\n",
              "      \n",
              "  <style>\n",
              "    .colab-df-container {\n",
              "      display:flex;\n",
              "      flex-wrap:wrap;\n",
              "      gap: 12px;\n",
              "    }\n",
              "\n",
              "    .colab-df-convert {\n",
              "      background-color: #E8F0FE;\n",
              "      border: none;\n",
              "      border-radius: 50%;\n",
              "      cursor: pointer;\n",
              "      display: none;\n",
              "      fill: #1967D2;\n",
              "      height: 32px;\n",
              "      padding: 0 0 0 0;\n",
              "      width: 32px;\n",
              "    }\n",
              "\n",
              "    .colab-df-convert:hover {\n",
              "      background-color: #E2EBFA;\n",
              "      box-shadow: 0px 1px 2px rgba(60, 64, 67, 0.3), 0px 1px 3px 1px rgba(60, 64, 67, 0.15);\n",
              "      fill: #174EA6;\n",
              "    }\n",
              "\n",
              "    [theme=dark] .colab-df-convert {\n",
              "      background-color: #3B4455;\n",
              "      fill: #D2E3FC;\n",
              "    }\n",
              "\n",
              "    [theme=dark] .colab-df-convert:hover {\n",
              "      background-color: #434B5C;\n",
              "      box-shadow: 0px 1px 3px 1px rgba(0, 0, 0, 0.15);\n",
              "      filter: drop-shadow(0px 1px 2px rgba(0, 0, 0, 0.3));\n",
              "      fill: #FFFFFF;\n",
              "    }\n",
              "  </style>\n",
              "\n",
              "      <script>\n",
              "        const buttonEl =\n",
              "          document.querySelector('#df-27159206-e1fd-4a3e-a7e3-06fa67e293b0 button.colab-df-convert');\n",
              "        buttonEl.style.display =\n",
              "          google.colab.kernel.accessAllowed ? 'block' : 'none';\n",
              "\n",
              "        async function convertToInteractive(key) {\n",
              "          const element = document.querySelector('#df-27159206-e1fd-4a3e-a7e3-06fa67e293b0');\n",
              "          const dataTable =\n",
              "            await google.colab.kernel.invokeFunction('convertToInteractive',\n",
              "                                                     [key], {});\n",
              "          if (!dataTable) return;\n",
              "\n",
              "          const docLinkHtml = 'Like what you see? Visit the ' +\n",
              "            '<a target=\"_blank\" href=https://colab.research.google.com/notebooks/data_table.ipynb>data table notebook</a>'\n",
              "            + ' to learn more about interactive tables.';\n",
              "          element.innerHTML = '';\n",
              "          dataTable['output_type'] = 'display_data';\n",
              "          await google.colab.output.renderOutput(dataTable, element);\n",
              "          const docLink = document.createElement('div');\n",
              "          docLink.innerHTML = docLinkHtml;\n",
              "          element.appendChild(docLink);\n",
              "        }\n",
              "      </script>\n",
              "    </div>\n",
              "  </div>\n",
              "  "
            ]
          },
          "metadata": {},
          "execution_count": 4
        }
      ]
    },
    {
      "cell_type": "code",
      "source": [
        "# データの前処理\n",
        "df_train =  df_train.drop_duplicates()\n",
        "\n",
        "df_train"
      ],
      "metadata": {
        "colab": {
          "base_uri": "https://localhost:8080/",
          "height": 424
        },
        "id": "mE4dl0jACH6d",
        "outputId": "38bc9077-2da7-4edd-8230-2ff6f8a9ee75"
      },
      "execution_count": 5,
      "outputs": [
        {
          "output_type": "execute_result",
          "data": {
            "text/plain": [
              "     id  sepal length in cm  sepal width in cm  petal length in cm  \\\n",
              "0     0                 5.3                3.7                 1.5   \n",
              "1     1                 6.8                2.8                 4.8   \n",
              "2     3                 6.1                3.0                 4.9   \n",
              "3     4                 6.4                3.2                 5.3   \n",
              "4     5                 6.3                3.3                 4.7   \n",
              "..  ...                 ...                ...                 ...   \n",
              "70  142                 6.4                3.2                 4.5   \n",
              "71  143                 5.4                3.9                 1.7   \n",
              "72  145                 5.6                3.0                 4.1   \n",
              "73  148                 5.2                2.7                 3.9   \n",
              "74  149                 6.9                3.1                 5.1   \n",
              "\n",
              "    petal width in cm            class  \n",
              "0                 0.2      Iris-setosa  \n",
              "1                 1.4  Iris-versicolor  \n",
              "2                 1.8   Iris-virginica  \n",
              "3                 2.3   Iris-virginica  \n",
              "4                 1.6  Iris-versicolor  \n",
              "..                ...              ...  \n",
              "70                1.5  Iris-versicolor  \n",
              "71                0.4      Iris-setosa  \n",
              "72                1.3  Iris-versicolor  \n",
              "73                1.4  Iris-versicolor  \n",
              "74                2.3   Iris-virginica  \n",
              "\n",
              "[75 rows x 6 columns]"
            ],
            "text/html": [
              "\n",
              "  <div id=\"df-051e3b24-4607-4efb-a079-f7cb131bc3c5\">\n",
              "    <div class=\"colab-df-container\">\n",
              "      <div>\n",
              "<style scoped>\n",
              "    .dataframe tbody tr th:only-of-type {\n",
              "        vertical-align: middle;\n",
              "    }\n",
              "\n",
              "    .dataframe tbody tr th {\n",
              "        vertical-align: top;\n",
              "    }\n",
              "\n",
              "    .dataframe thead th {\n",
              "        text-align: right;\n",
              "    }\n",
              "</style>\n",
              "<table border=\"1\" class=\"dataframe\">\n",
              "  <thead>\n",
              "    <tr style=\"text-align: right;\">\n",
              "      <th></th>\n",
              "      <th>id</th>\n",
              "      <th>sepal length in cm</th>\n",
              "      <th>sepal width in cm</th>\n",
              "      <th>petal length in cm</th>\n",
              "      <th>petal width in cm</th>\n",
              "      <th>class</th>\n",
              "    </tr>\n",
              "  </thead>\n",
              "  <tbody>\n",
              "    <tr>\n",
              "      <th>0</th>\n",
              "      <td>0</td>\n",
              "      <td>5.3</td>\n",
              "      <td>3.7</td>\n",
              "      <td>1.5</td>\n",
              "      <td>0.2</td>\n",
              "      <td>Iris-setosa</td>\n",
              "    </tr>\n",
              "    <tr>\n",
              "      <th>1</th>\n",
              "      <td>1</td>\n",
              "      <td>6.8</td>\n",
              "      <td>2.8</td>\n",
              "      <td>4.8</td>\n",
              "      <td>1.4</td>\n",
              "      <td>Iris-versicolor</td>\n",
              "    </tr>\n",
              "    <tr>\n",
              "      <th>2</th>\n",
              "      <td>3</td>\n",
              "      <td>6.1</td>\n",
              "      <td>3.0</td>\n",
              "      <td>4.9</td>\n",
              "      <td>1.8</td>\n",
              "      <td>Iris-virginica</td>\n",
              "    </tr>\n",
              "    <tr>\n",
              "      <th>3</th>\n",
              "      <td>4</td>\n",
              "      <td>6.4</td>\n",
              "      <td>3.2</td>\n",
              "      <td>5.3</td>\n",
              "      <td>2.3</td>\n",
              "      <td>Iris-virginica</td>\n",
              "    </tr>\n",
              "    <tr>\n",
              "      <th>4</th>\n",
              "      <td>5</td>\n",
              "      <td>6.3</td>\n",
              "      <td>3.3</td>\n",
              "      <td>4.7</td>\n",
              "      <td>1.6</td>\n",
              "      <td>Iris-versicolor</td>\n",
              "    </tr>\n",
              "    <tr>\n",
              "      <th>...</th>\n",
              "      <td>...</td>\n",
              "      <td>...</td>\n",
              "      <td>...</td>\n",
              "      <td>...</td>\n",
              "      <td>...</td>\n",
              "      <td>...</td>\n",
              "    </tr>\n",
              "    <tr>\n",
              "      <th>70</th>\n",
              "      <td>142</td>\n",
              "      <td>6.4</td>\n",
              "      <td>3.2</td>\n",
              "      <td>4.5</td>\n",
              "      <td>1.5</td>\n",
              "      <td>Iris-versicolor</td>\n",
              "    </tr>\n",
              "    <tr>\n",
              "      <th>71</th>\n",
              "      <td>143</td>\n",
              "      <td>5.4</td>\n",
              "      <td>3.9</td>\n",
              "      <td>1.7</td>\n",
              "      <td>0.4</td>\n",
              "      <td>Iris-setosa</td>\n",
              "    </tr>\n",
              "    <tr>\n",
              "      <th>72</th>\n",
              "      <td>145</td>\n",
              "      <td>5.6</td>\n",
              "      <td>3.0</td>\n",
              "      <td>4.1</td>\n",
              "      <td>1.3</td>\n",
              "      <td>Iris-versicolor</td>\n",
              "    </tr>\n",
              "    <tr>\n",
              "      <th>73</th>\n",
              "      <td>148</td>\n",
              "      <td>5.2</td>\n",
              "      <td>2.7</td>\n",
              "      <td>3.9</td>\n",
              "      <td>1.4</td>\n",
              "      <td>Iris-versicolor</td>\n",
              "    </tr>\n",
              "    <tr>\n",
              "      <th>74</th>\n",
              "      <td>149</td>\n",
              "      <td>6.9</td>\n",
              "      <td>3.1</td>\n",
              "      <td>5.1</td>\n",
              "      <td>2.3</td>\n",
              "      <td>Iris-virginica</td>\n",
              "    </tr>\n",
              "  </tbody>\n",
              "</table>\n",
              "<p>75 rows × 6 columns</p>\n",
              "</div>\n",
              "      <button class=\"colab-df-convert\" onclick=\"convertToInteractive('df-051e3b24-4607-4efb-a079-f7cb131bc3c5')\"\n",
              "              title=\"Convert this dataframe to an interactive table.\"\n",
              "              style=\"display:none;\">\n",
              "        \n",
              "  <svg xmlns=\"http://www.w3.org/2000/svg\" height=\"24px\"viewBox=\"0 0 24 24\"\n",
              "       width=\"24px\">\n",
              "    <path d=\"M0 0h24v24H0V0z\" fill=\"none\"/>\n",
              "    <path d=\"M18.56 5.44l.94 2.06.94-2.06 2.06-.94-2.06-.94-.94-2.06-.94 2.06-2.06.94zm-11 1L8.5 8.5l.94-2.06 2.06-.94-2.06-.94L8.5 2.5l-.94 2.06-2.06.94zm10 10l.94 2.06.94-2.06 2.06-.94-2.06-.94-.94-2.06-.94 2.06-2.06.94z\"/><path d=\"M17.41 7.96l-1.37-1.37c-.4-.4-.92-.59-1.43-.59-.52 0-1.04.2-1.43.59L10.3 9.45l-7.72 7.72c-.78.78-.78 2.05 0 2.83L4 21.41c.39.39.9.59 1.41.59.51 0 1.02-.2 1.41-.59l7.78-7.78 2.81-2.81c.8-.78.8-2.07 0-2.86zM5.41 20L4 18.59l7.72-7.72 1.47 1.35L5.41 20z\"/>\n",
              "  </svg>\n",
              "      </button>\n",
              "      \n",
              "  <style>\n",
              "    .colab-df-container {\n",
              "      display:flex;\n",
              "      flex-wrap:wrap;\n",
              "      gap: 12px;\n",
              "    }\n",
              "\n",
              "    .colab-df-convert {\n",
              "      background-color: #E8F0FE;\n",
              "      border: none;\n",
              "      border-radius: 50%;\n",
              "      cursor: pointer;\n",
              "      display: none;\n",
              "      fill: #1967D2;\n",
              "      height: 32px;\n",
              "      padding: 0 0 0 0;\n",
              "      width: 32px;\n",
              "    }\n",
              "\n",
              "    .colab-df-convert:hover {\n",
              "      background-color: #E2EBFA;\n",
              "      box-shadow: 0px 1px 2px rgba(60, 64, 67, 0.3), 0px 1px 3px 1px rgba(60, 64, 67, 0.15);\n",
              "      fill: #174EA6;\n",
              "    }\n",
              "\n",
              "    [theme=dark] .colab-df-convert {\n",
              "      background-color: #3B4455;\n",
              "      fill: #D2E3FC;\n",
              "    }\n",
              "\n",
              "    [theme=dark] .colab-df-convert:hover {\n",
              "      background-color: #434B5C;\n",
              "      box-shadow: 0px 1px 3px 1px rgba(0, 0, 0, 0.15);\n",
              "      filter: drop-shadow(0px 1px 2px rgba(0, 0, 0, 0.3));\n",
              "      fill: #FFFFFF;\n",
              "    }\n",
              "  </style>\n",
              "\n",
              "      <script>\n",
              "        const buttonEl =\n",
              "          document.querySelector('#df-051e3b24-4607-4efb-a079-f7cb131bc3c5 button.colab-df-convert');\n",
              "        buttonEl.style.display =\n",
              "          google.colab.kernel.accessAllowed ? 'block' : 'none';\n",
              "\n",
              "        async function convertToInteractive(key) {\n",
              "          const element = document.querySelector('#df-051e3b24-4607-4efb-a079-f7cb131bc3c5');\n",
              "          const dataTable =\n",
              "            await google.colab.kernel.invokeFunction('convertToInteractive',\n",
              "                                                     [key], {});\n",
              "          if (!dataTable) return;\n",
              "\n",
              "          const docLinkHtml = 'Like what you see? Visit the ' +\n",
              "            '<a target=\"_blank\" href=https://colab.research.google.com/notebooks/data_table.ipynb>data table notebook</a>'\n",
              "            + ' to learn more about interactive tables.';\n",
              "          element.innerHTML = '';\n",
              "          dataTable['output_type'] = 'display_data';\n",
              "          await google.colab.output.renderOutput(dataTable, element);\n",
              "          const docLink = document.createElement('div');\n",
              "          docLink.innerHTML = docLinkHtml;\n",
              "          element.appendChild(docLink);\n",
              "        }\n",
              "      </script>\n",
              "    </div>\n",
              "  </div>\n",
              "  "
            ]
          },
          "metadata": {},
          "execution_count": 5
        }
      ]
    },
    {
      "cell_type": "code",
      "source": [
        "# データの切り分け（入力データ　目標値）\n",
        "x_train = df_train.drop('class', axis=1).values\n",
        "t_train = df_train['class'].values"
      ],
      "metadata": {
        "id": "szTgf3cQEeD5"
      },
      "execution_count": 6,
      "outputs": []
    },
    {
      "cell_type": "code",
      "source": [
        "x_train"
      ],
      "metadata": {
        "colab": {
          "base_uri": "https://localhost:8080/"
        },
        "id": "4Yg7spveGBQe",
        "outputId": "b0693a09-f12a-4ade-fec8-0822183c3500"
      },
      "execution_count": 7,
      "outputs": [
        {
          "output_type": "execute_result",
          "data": {
            "text/plain": [
              "array([[0.00e+00, 5.30e+00, 3.70e+00, 1.50e+00, 2.00e-01],\n",
              "       [1.00e+00, 6.80e+00, 2.80e+00, 4.80e+00, 1.40e+00],\n",
              "       [3.00e+00, 6.10e+00, 3.00e+00, 4.90e+00, 1.80e+00],\n",
              "       [4.00e+00, 6.40e+00, 3.20e+00, 5.30e+00, 2.30e+00],\n",
              "       [5.00e+00, 6.30e+00, 3.30e+00, 4.70e+00, 1.60e+00],\n",
              "       [6.00e+00, 6.10e+00, 2.80e+00, 4.00e+00, 1.30e+00],\n",
              "       [9.00e+00, 6.10e+00, 2.90e+00, 4.70e+00, 1.40e+00],\n",
              "       [1.10e+01, 7.30e+00, 2.90e+00, 6.30e+00, 1.80e+00],\n",
              "       [1.20e+01, 6.40e+00, 2.80e+00, 5.60e+00, 2.10e+00],\n",
              "       [1.40e+01, 7.20e+00, 3.20e+00, 6.00e+00, 1.80e+00],\n",
              "       [1.70e+01, 6.10e+00, 3.00e+00, 4.60e+00, 1.40e+00],\n",
              "       [1.90e+01, 5.90e+00, 3.00e+00, 5.10e+00, 1.80e+00],\n",
              "       [2.10e+01, 6.70e+00, 3.00e+00, 5.20e+00, 2.30e+00],\n",
              "       [2.30e+01, 7.90e+00, 3.80e+00, 6.40e+00, 2.00e+00],\n",
              "       [2.50e+01, 4.80e+00, 3.00e+00, 1.40e+00, 3.00e-01],\n",
              "       [2.80e+01, 4.90e+00, 3.60e+00, 1.40e+00, 1.00e-01],\n",
              "       [2.90e+01, 5.90e+00, 3.00e+00, 4.20e+00, 1.50e+00],\n",
              "       [3.10e+01, 6.60e+00, 3.00e+00, 4.40e+00, 1.40e+00],\n",
              "       [3.20e+01, 6.30e+00, 2.30e+00, 4.40e+00, 1.30e+00],\n",
              "       [3.40e+01, 4.60e+00, 3.20e+00, 1.40e+00, 2.00e-01],\n",
              "       [3.50e+01, 5.10e+00, 3.80e+00, 1.60e+00, 2.00e-01],\n",
              "       [3.60e+01, 7.60e+00, 3.00e+00, 6.60e+00, 2.10e+00],\n",
              "       [3.80e+01, 6.70e+00, 2.50e+00, 5.80e+00, 1.80e+00],\n",
              "       [3.90e+01, 6.00e+00, 3.00e+00, 4.80e+00, 1.80e+00],\n",
              "       [4.10e+01, 5.10e+00, 3.40e+00, 1.50e+00, 2.00e-01],\n",
              "       [4.20e+01, 4.90e+00, 2.50e+00, 4.50e+00, 1.70e+00],\n",
              "       [4.60e+01, 6.40e+00, 2.70e+00, 5.30e+00, 1.90e+00],\n",
              "       [4.70e+01, 5.70e+00, 2.60e+00, 3.50e+00, 1.00e+00],\n",
              "       [4.90e+01, 6.70e+00, 3.10e+00, 5.60e+00, 2.40e+00],\n",
              "       [5.30e+01, 4.90e+00, 3.10e+00, 1.50e+00, 2.00e-01],\n",
              "       [5.50e+01, 6.50e+00, 3.00e+00, 5.50e+00, 1.80e+00],\n",
              "       [5.70e+01, 5.10e+00, 3.70e+00, 1.50e+00, 4.00e-01],\n",
              "       [5.80e+01, 4.40e+00, 3.20e+00, 1.30e+00, 2.00e-01],\n",
              "       [6.50e+01, 5.00e+00, 3.40e+00, 1.50e+00, 2.00e-01],\n",
              "       [6.70e+01, 5.40e+00, 3.70e+00, 1.50e+00, 2.00e-01],\n",
              "       [6.80e+01, 7.20e+00, 3.00e+00, 5.80e+00, 1.60e+00],\n",
              "       [7.00e+01, 6.30e+00, 2.70e+00, 4.90e+00, 1.80e+00],\n",
              "       [7.20e+01, 5.70e+00, 2.90e+00, 4.20e+00, 1.30e+00],\n",
              "       [7.40e+01, 4.90e+00, 3.10e+00, 1.50e+00, 1.00e-01],\n",
              "       [7.50e+01, 5.60e+00, 2.90e+00, 3.60e+00, 1.30e+00],\n",
              "       [7.70e+01, 5.50e+00, 4.20e+00, 1.40e+00, 2.00e-01],\n",
              "       [7.90e+01, 7.70e+00, 3.80e+00, 6.70e+00, 2.20e+00],\n",
              "       [8.10e+01, 5.20e+00, 4.10e+00, 1.50e+00, 1.00e-01],\n",
              "       [8.20e+01, 6.00e+00, 2.20e+00, 5.00e+00, 1.50e+00],\n",
              "       [8.70e+01, 7.10e+00, 3.00e+00, 5.90e+00, 2.10e+00],\n",
              "       [8.80e+01, 5.80e+00, 2.80e+00, 5.10e+00, 2.40e+00],\n",
              "       [9.60e+01, 4.80e+00, 3.00e+00, 1.40e+00, 1.00e-01],\n",
              "       [9.80e+01, 5.50e+00, 2.60e+00, 4.40e+00, 1.20e+00],\n",
              "       [9.90e+01, 7.70e+00, 2.60e+00, 6.90e+00, 2.30e+00],\n",
              "       [1.02e+02, 6.10e+00, 2.60e+00, 5.60e+00, 1.40e+00],\n",
              "       [1.03e+02, 4.70e+00, 3.20e+00, 1.30e+00, 2.00e-01],\n",
              "       [1.04e+02, 6.20e+00, 2.80e+00, 4.80e+00, 1.80e+00],\n",
              "       [1.05e+02, 4.60e+00, 3.60e+00, 1.00e+00, 2.00e-01],\n",
              "       [1.09e+02, 5.10e+00, 3.80e+00, 1.90e+00, 4.00e-01],\n",
              "       [1.10e+02, 5.80e+00, 4.00e+00, 1.20e+00, 2.00e-01],\n",
              "       [1.13e+02, 5.90e+00, 3.20e+00, 4.80e+00, 1.80e+00],\n",
              "       [1.15e+02, 6.90e+00, 3.10e+00, 4.90e+00, 1.50e+00],\n",
              "       [1.17e+02, 5.80e+00, 2.70e+00, 3.90e+00, 1.20e+00],\n",
              "       [1.18e+02, 6.30e+00, 3.40e+00, 5.60e+00, 2.40e+00],\n",
              "       [1.20e+02, 7.20e+00, 3.60e+00, 6.10e+00, 2.50e+00],\n",
              "       [1.22e+02, 5.60e+00, 2.50e+00, 3.90e+00, 1.10e+00],\n",
              "       [1.24e+02, 5.00e+00, 3.00e+00, 1.60e+00, 2.00e-01],\n",
              "       [1.28e+02, 5.80e+00, 2.70e+00, 4.10e+00, 1.00e+00],\n",
              "       [1.29e+02, 5.00e+00, 3.50e+00, 1.60e+00, 6.00e-01],\n",
              "       [1.30e+02, 5.00e+00, 3.20e+00, 1.20e+00, 2.00e-01],\n",
              "       [1.31e+02, 5.00e+00, 2.00e+00, 3.50e+00, 1.00e+00],\n",
              "       [1.36e+02, 5.50e+00, 3.50e+00, 1.30e+00, 2.00e-01],\n",
              "       [1.38e+02, 6.50e+00, 3.00e+00, 5.80e+00, 2.20e+00],\n",
              "       [1.39e+02, 4.80e+00, 3.10e+00, 1.60e+00, 2.00e-01],\n",
              "       [1.40e+02, 7.70e+00, 2.80e+00, 6.70e+00, 2.00e+00],\n",
              "       [1.42e+02, 6.40e+00, 3.20e+00, 4.50e+00, 1.50e+00],\n",
              "       [1.43e+02, 5.40e+00, 3.90e+00, 1.70e+00, 4.00e-01],\n",
              "       [1.45e+02, 5.60e+00, 3.00e+00, 4.10e+00, 1.30e+00],\n",
              "       [1.48e+02, 5.20e+00, 2.70e+00, 3.90e+00, 1.40e+00],\n",
              "       [1.49e+02, 6.90e+00, 3.10e+00, 5.10e+00, 2.30e+00]])"
            ]
          },
          "metadata": {},
          "execution_count": 7
        }
      ]
    },
    {
      "cell_type": "code",
      "source": [
        "t_train"
      ],
      "metadata": {
        "colab": {
          "base_uri": "https://localhost:8080/"
        },
        "id": "cKSi9k2aGGoX",
        "outputId": "c8be3947-4bc3-48d3-a070-545d356ee00f"
      },
      "execution_count": 8,
      "outputs": [
        {
          "output_type": "execute_result",
          "data": {
            "text/plain": [
              "array(['Iris-setosa', 'Iris-versicolor', 'Iris-virginica',\n",
              "       'Iris-virginica', 'Iris-versicolor', 'Iris-versicolor',\n",
              "       'Iris-versicolor', 'Iris-virginica', 'Iris-virginica',\n",
              "       'Iris-virginica', 'Iris-versicolor', 'Iris-virginica',\n",
              "       'Iris-virginica', 'Iris-virginica', 'Iris-setosa', 'Iris-setosa',\n",
              "       'Iris-versicolor', 'Iris-versicolor', 'Iris-versicolor',\n",
              "       'Iris-setosa', 'Iris-setosa', 'Iris-virginica', 'Iris-virginica',\n",
              "       'Iris-virginica', 'Iris-setosa', 'Iris-virginica',\n",
              "       'Iris-virginica', 'Iris-versicolor', 'Iris-virginica',\n",
              "       'Iris-setosa', 'Iris-virginica', 'Iris-setosa', 'Iris-setosa',\n",
              "       'Iris-setosa', 'Iris-setosa', 'Iris-virginica', 'Iris-virginica',\n",
              "       'Iris-versicolor', 'Iris-setosa', 'Iris-versicolor', 'Iris-setosa',\n",
              "       'Iris-virginica', 'Iris-setosa', 'Iris-virginica',\n",
              "       'Iris-virginica', 'Iris-virginica', 'Iris-setosa',\n",
              "       'Iris-versicolor', 'Iris-virginica', 'Iris-virginica',\n",
              "       'Iris-setosa', 'Iris-virginica', 'Iris-setosa', 'Iris-setosa',\n",
              "       'Iris-setosa', 'Iris-versicolor', 'Iris-versicolor',\n",
              "       'Iris-versicolor', 'Iris-virginica', 'Iris-virginica',\n",
              "       'Iris-versicolor', 'Iris-setosa', 'Iris-versicolor', 'Iris-setosa',\n",
              "       'Iris-setosa', 'Iris-versicolor', 'Iris-setosa', 'Iris-virginica',\n",
              "       'Iris-setosa', 'Iris-virginica', 'Iris-versicolor', 'Iris-setosa',\n",
              "       'Iris-versicolor', 'Iris-versicolor', 'Iris-virginica'],\n",
              "      dtype=object)"
            ]
          },
          "metadata": {},
          "execution_count": 8
        }
      ]
    },
    {
      "cell_type": "code",
      "source": [
        "# モデルの構築\n",
        "\n",
        "from sklearn.ensemble import RandomForestClassifier\n",
        "model = RandomForestClassifier(random_state=0)"
      ],
      "metadata": {
        "id": "0MynVATEGIg3"
      },
      "execution_count": 9,
      "outputs": []
    },
    {
      "cell_type": "code",
      "source": [
        "# モデルの学習\n",
        "\n",
        "%%time\n",
        "model.fit(x_train,t_train)"
      ],
      "metadata": {
        "colab": {
          "base_uri": "https://localhost:8080/"
        },
        "id": "xEb7X62KGWF6",
        "outputId": "b2a30528-6ef3-475e-c4dd-b79223104abb"
      },
      "execution_count": 10,
      "outputs": [
        {
          "output_type": "stream",
          "name": "stdout",
          "text": [
            "CPU times: user 134 ms, sys: 0 ns, total: 134 ms\n",
            "Wall time: 137 ms\n"
          ]
        },
        {
          "output_type": "execute_result",
          "data": {
            "text/plain": [
              "RandomForestClassifier(random_state=0)"
            ]
          },
          "metadata": {},
          "execution_count": 10
        }
      ]
    },
    {
      "cell_type": "code",
      "source": [
        "# モデルの定義\n",
        "from sklearn.tree import DecisionTreeClassifier\n",
        "dtree = DecisionTreeClassifier(random_state=0)"
      ],
      "metadata": {
        "id": "iAs6V9SKHwKL"
      },
      "execution_count": 11,
      "outputs": []
    },
    {
      "cell_type": "code",
      "source": [
        "# モデルの学習\n",
        "dtree.fit(x_train, t_train)"
      ],
      "metadata": {
        "colab": {
          "base_uri": "https://localhost:8080/"
        },
        "id": "B6EqzhFmHyTl",
        "outputId": "dd71f82a-f7db-401b-892b-d26f3b16607c"
      },
      "execution_count": 12,
      "outputs": [
        {
          "output_type": "execute_result",
          "data": {
            "text/plain": [
              "DecisionTreeClassifier(random_state=0)"
            ]
          },
          "metadata": {},
          "execution_count": 12
        }
      ]
    },
    {
      "cell_type": "code",
      "source": [
        "# モデルの検証\n",
        "print('train score : ', dtree.score(x_train, t_train))\n",
        "# print('test score : ', dtree.score(x_test, t_test))"
      ],
      "metadata": {
        "colab": {
          "base_uri": "https://localhost:8080/"
        },
        "id": "yiPLte6_Gh5v",
        "outputId": "cc624b5e-7174-4217-83c7-7764900df9c9"
      },
      "execution_count": 13,
      "outputs": [
        {
          "output_type": "stream",
          "name": "stdout",
          "text": [
            "train score :  1.0\n"
          ]
        }
      ]
    },
    {
      "cell_type": "code",
      "source": [
        "# データの切り分け（入力データ　目標値）\n",
        "x_test = df_train.drop('class', axis=1).values"
      ],
      "metadata": {
        "id": "GDUB-J_sICky"
      },
      "execution_count": 14,
      "outputs": []
    },
    {
      "cell_type": "code",
      "source": [
        "x_test"
      ],
      "metadata": {
        "colab": {
          "base_uri": "https://localhost:8080/"
        },
        "id": "Zjnnd---INAr",
        "outputId": "f60bf94d-e4a8-41ed-db96-72cc013b2a38"
      },
      "execution_count": 15,
      "outputs": [
        {
          "output_type": "execute_result",
          "data": {
            "text/plain": [
              "array([[0.00e+00, 5.30e+00, 3.70e+00, 1.50e+00, 2.00e-01],\n",
              "       [1.00e+00, 6.80e+00, 2.80e+00, 4.80e+00, 1.40e+00],\n",
              "       [3.00e+00, 6.10e+00, 3.00e+00, 4.90e+00, 1.80e+00],\n",
              "       [4.00e+00, 6.40e+00, 3.20e+00, 5.30e+00, 2.30e+00],\n",
              "       [5.00e+00, 6.30e+00, 3.30e+00, 4.70e+00, 1.60e+00],\n",
              "       [6.00e+00, 6.10e+00, 2.80e+00, 4.00e+00, 1.30e+00],\n",
              "       [9.00e+00, 6.10e+00, 2.90e+00, 4.70e+00, 1.40e+00],\n",
              "       [1.10e+01, 7.30e+00, 2.90e+00, 6.30e+00, 1.80e+00],\n",
              "       [1.20e+01, 6.40e+00, 2.80e+00, 5.60e+00, 2.10e+00],\n",
              "       [1.40e+01, 7.20e+00, 3.20e+00, 6.00e+00, 1.80e+00],\n",
              "       [1.70e+01, 6.10e+00, 3.00e+00, 4.60e+00, 1.40e+00],\n",
              "       [1.90e+01, 5.90e+00, 3.00e+00, 5.10e+00, 1.80e+00],\n",
              "       [2.10e+01, 6.70e+00, 3.00e+00, 5.20e+00, 2.30e+00],\n",
              "       [2.30e+01, 7.90e+00, 3.80e+00, 6.40e+00, 2.00e+00],\n",
              "       [2.50e+01, 4.80e+00, 3.00e+00, 1.40e+00, 3.00e-01],\n",
              "       [2.80e+01, 4.90e+00, 3.60e+00, 1.40e+00, 1.00e-01],\n",
              "       [2.90e+01, 5.90e+00, 3.00e+00, 4.20e+00, 1.50e+00],\n",
              "       [3.10e+01, 6.60e+00, 3.00e+00, 4.40e+00, 1.40e+00],\n",
              "       [3.20e+01, 6.30e+00, 2.30e+00, 4.40e+00, 1.30e+00],\n",
              "       [3.40e+01, 4.60e+00, 3.20e+00, 1.40e+00, 2.00e-01],\n",
              "       [3.50e+01, 5.10e+00, 3.80e+00, 1.60e+00, 2.00e-01],\n",
              "       [3.60e+01, 7.60e+00, 3.00e+00, 6.60e+00, 2.10e+00],\n",
              "       [3.80e+01, 6.70e+00, 2.50e+00, 5.80e+00, 1.80e+00],\n",
              "       [3.90e+01, 6.00e+00, 3.00e+00, 4.80e+00, 1.80e+00],\n",
              "       [4.10e+01, 5.10e+00, 3.40e+00, 1.50e+00, 2.00e-01],\n",
              "       [4.20e+01, 4.90e+00, 2.50e+00, 4.50e+00, 1.70e+00],\n",
              "       [4.60e+01, 6.40e+00, 2.70e+00, 5.30e+00, 1.90e+00],\n",
              "       [4.70e+01, 5.70e+00, 2.60e+00, 3.50e+00, 1.00e+00],\n",
              "       [4.90e+01, 6.70e+00, 3.10e+00, 5.60e+00, 2.40e+00],\n",
              "       [5.30e+01, 4.90e+00, 3.10e+00, 1.50e+00, 2.00e-01],\n",
              "       [5.50e+01, 6.50e+00, 3.00e+00, 5.50e+00, 1.80e+00],\n",
              "       [5.70e+01, 5.10e+00, 3.70e+00, 1.50e+00, 4.00e-01],\n",
              "       [5.80e+01, 4.40e+00, 3.20e+00, 1.30e+00, 2.00e-01],\n",
              "       [6.50e+01, 5.00e+00, 3.40e+00, 1.50e+00, 2.00e-01],\n",
              "       [6.70e+01, 5.40e+00, 3.70e+00, 1.50e+00, 2.00e-01],\n",
              "       [6.80e+01, 7.20e+00, 3.00e+00, 5.80e+00, 1.60e+00],\n",
              "       [7.00e+01, 6.30e+00, 2.70e+00, 4.90e+00, 1.80e+00],\n",
              "       [7.20e+01, 5.70e+00, 2.90e+00, 4.20e+00, 1.30e+00],\n",
              "       [7.40e+01, 4.90e+00, 3.10e+00, 1.50e+00, 1.00e-01],\n",
              "       [7.50e+01, 5.60e+00, 2.90e+00, 3.60e+00, 1.30e+00],\n",
              "       [7.70e+01, 5.50e+00, 4.20e+00, 1.40e+00, 2.00e-01],\n",
              "       [7.90e+01, 7.70e+00, 3.80e+00, 6.70e+00, 2.20e+00],\n",
              "       [8.10e+01, 5.20e+00, 4.10e+00, 1.50e+00, 1.00e-01],\n",
              "       [8.20e+01, 6.00e+00, 2.20e+00, 5.00e+00, 1.50e+00],\n",
              "       [8.70e+01, 7.10e+00, 3.00e+00, 5.90e+00, 2.10e+00],\n",
              "       [8.80e+01, 5.80e+00, 2.80e+00, 5.10e+00, 2.40e+00],\n",
              "       [9.60e+01, 4.80e+00, 3.00e+00, 1.40e+00, 1.00e-01],\n",
              "       [9.80e+01, 5.50e+00, 2.60e+00, 4.40e+00, 1.20e+00],\n",
              "       [9.90e+01, 7.70e+00, 2.60e+00, 6.90e+00, 2.30e+00],\n",
              "       [1.02e+02, 6.10e+00, 2.60e+00, 5.60e+00, 1.40e+00],\n",
              "       [1.03e+02, 4.70e+00, 3.20e+00, 1.30e+00, 2.00e-01],\n",
              "       [1.04e+02, 6.20e+00, 2.80e+00, 4.80e+00, 1.80e+00],\n",
              "       [1.05e+02, 4.60e+00, 3.60e+00, 1.00e+00, 2.00e-01],\n",
              "       [1.09e+02, 5.10e+00, 3.80e+00, 1.90e+00, 4.00e-01],\n",
              "       [1.10e+02, 5.80e+00, 4.00e+00, 1.20e+00, 2.00e-01],\n",
              "       [1.13e+02, 5.90e+00, 3.20e+00, 4.80e+00, 1.80e+00],\n",
              "       [1.15e+02, 6.90e+00, 3.10e+00, 4.90e+00, 1.50e+00],\n",
              "       [1.17e+02, 5.80e+00, 2.70e+00, 3.90e+00, 1.20e+00],\n",
              "       [1.18e+02, 6.30e+00, 3.40e+00, 5.60e+00, 2.40e+00],\n",
              "       [1.20e+02, 7.20e+00, 3.60e+00, 6.10e+00, 2.50e+00],\n",
              "       [1.22e+02, 5.60e+00, 2.50e+00, 3.90e+00, 1.10e+00],\n",
              "       [1.24e+02, 5.00e+00, 3.00e+00, 1.60e+00, 2.00e-01],\n",
              "       [1.28e+02, 5.80e+00, 2.70e+00, 4.10e+00, 1.00e+00],\n",
              "       [1.29e+02, 5.00e+00, 3.50e+00, 1.60e+00, 6.00e-01],\n",
              "       [1.30e+02, 5.00e+00, 3.20e+00, 1.20e+00, 2.00e-01],\n",
              "       [1.31e+02, 5.00e+00, 2.00e+00, 3.50e+00, 1.00e+00],\n",
              "       [1.36e+02, 5.50e+00, 3.50e+00, 1.30e+00, 2.00e-01],\n",
              "       [1.38e+02, 6.50e+00, 3.00e+00, 5.80e+00, 2.20e+00],\n",
              "       [1.39e+02, 4.80e+00, 3.10e+00, 1.60e+00, 2.00e-01],\n",
              "       [1.40e+02, 7.70e+00, 2.80e+00, 6.70e+00, 2.00e+00],\n",
              "       [1.42e+02, 6.40e+00, 3.20e+00, 4.50e+00, 1.50e+00],\n",
              "       [1.43e+02, 5.40e+00, 3.90e+00, 1.70e+00, 4.00e-01],\n",
              "       [1.45e+02, 5.60e+00, 3.00e+00, 4.10e+00, 1.30e+00],\n",
              "       [1.48e+02, 5.20e+00, 2.70e+00, 3.90e+00, 1.40e+00],\n",
              "       [1.49e+02, 6.90e+00, 3.10e+00, 5.10e+00, 2.30e+00]])"
            ]
          },
          "metadata": {},
          "execution_count": 15
        }
      ]
    },
    {
      "cell_type": "code",
      "source": [
        "# 推論\n",
        "t_test = dtree.predict(x_test)"
      ],
      "metadata": {
        "id": "34ow8QniHtWC"
      },
      "execution_count": 16,
      "outputs": []
    },
    {
      "cell_type": "code",
      "source": [
        "\n",
        "\n",
        "t_test"
      ],
      "metadata": {
        "colab": {
          "base_uri": "https://localhost:8080/"
        },
        "id": "aBJwgMJzH_2x",
        "outputId": "416a34fc-b45f-4482-f848-7eb405100703"
      },
      "execution_count": 17,
      "outputs": [
        {
          "output_type": "execute_result",
          "data": {
            "text/plain": [
              "array(['Iris-setosa', 'Iris-versicolor', 'Iris-virginica',\n",
              "       'Iris-virginica', 'Iris-versicolor', 'Iris-versicolor',\n",
              "       'Iris-versicolor', 'Iris-virginica', 'Iris-virginica',\n",
              "       'Iris-virginica', 'Iris-versicolor', 'Iris-virginica',\n",
              "       'Iris-virginica', 'Iris-virginica', 'Iris-setosa', 'Iris-setosa',\n",
              "       'Iris-versicolor', 'Iris-versicolor', 'Iris-versicolor',\n",
              "       'Iris-setosa', 'Iris-setosa', 'Iris-virginica', 'Iris-virginica',\n",
              "       'Iris-virginica', 'Iris-setosa', 'Iris-virginica',\n",
              "       'Iris-virginica', 'Iris-versicolor', 'Iris-virginica',\n",
              "       'Iris-setosa', 'Iris-virginica', 'Iris-setosa', 'Iris-setosa',\n",
              "       'Iris-setosa', 'Iris-setosa', 'Iris-virginica', 'Iris-virginica',\n",
              "       'Iris-versicolor', 'Iris-setosa', 'Iris-versicolor', 'Iris-setosa',\n",
              "       'Iris-virginica', 'Iris-setosa', 'Iris-virginica',\n",
              "       'Iris-virginica', 'Iris-virginica', 'Iris-setosa',\n",
              "       'Iris-versicolor', 'Iris-virginica', 'Iris-virginica',\n",
              "       'Iris-setosa', 'Iris-virginica', 'Iris-setosa', 'Iris-setosa',\n",
              "       'Iris-setosa', 'Iris-versicolor', 'Iris-versicolor',\n",
              "       'Iris-versicolor', 'Iris-virginica', 'Iris-virginica',\n",
              "       'Iris-versicolor', 'Iris-setosa', 'Iris-versicolor', 'Iris-setosa',\n",
              "       'Iris-setosa', 'Iris-versicolor', 'Iris-setosa', 'Iris-virginica',\n",
              "       'Iris-setosa', 'Iris-virginica', 'Iris-versicolor', 'Iris-setosa',\n",
              "       'Iris-versicolor', 'Iris-versicolor', 'Iris-virginica'],\n",
              "      dtype=object)"
            ]
          },
          "metadata": {},
          "execution_count": 17
        }
      ]
    },
    {
      "cell_type": "code",
      "source": [
        "type(t_test),type(x_test)"
      ],
      "metadata": {
        "colab": {
          "base_uri": "https://localhost:8080/"
        },
        "id": "ZwwsQbC1Ia1w",
        "outputId": "470cbb4d-b7fc-475c-c585-5ffd8aa7dd1e"
      },
      "execution_count": 18,
      "outputs": [
        {
          "output_type": "execute_result",
          "data": {
            "text/plain": [
              "(numpy.ndarray, numpy.ndarray)"
            ]
          },
          "metadata": {},
          "execution_count": 18
        }
      ]
    },
    {
      "cell_type": "code",
      "source": [
        "x_test.shape,t_test.shape"
      ],
      "metadata": {
        "colab": {
          "base_uri": "https://localhost:8080/"
        },
        "id": "GHAuiw3wJxFM",
        "outputId": "0fb99ad7-b5a0-47d9-d520-126940142b0e"
      },
      "execution_count": 19,
      "outputs": [
        {
          "output_type": "execute_result",
          "data": {
            "text/plain": [
              "((75, 5), (75,))"
            ]
          },
          "metadata": {},
          "execution_count": 19
        }
      ]
    },
    {
      "cell_type": "code",
      "source": [
        "x_test[:,0]"
      ],
      "metadata": {
        "colab": {
          "base_uri": "https://localhost:8080/"
        },
        "id": "sOXCJoQgGCMm",
        "outputId": "9862765c-6df0-4f21-d410-77e15c5c9cdc"
      },
      "execution_count": 26,
      "outputs": [
        {
          "output_type": "execute_result",
          "data": {
            "text/plain": [
              "array([  0.,   1.,   3.,   4.,   5.,   6.,   9.,  11.,  12.,  14.,  17.,\n",
              "        19.,  21.,  23.,  25.,  28.,  29.,  31.,  32.,  34.,  35.,  36.,\n",
              "        38.,  39.,  41.,  42.,  46.,  47.,  49.,  53.,  55.,  57.,  58.,\n",
              "        65.,  67.,  68.,  70.,  72.,  74.,  75.,  77.,  79.,  81.,  82.,\n",
              "        87.,  88.,  96.,  98.,  99., 102., 103., 104., 105., 109., 110.,\n",
              "       113., 115., 117., 118., 120., 122., 124., 128., 129., 130., 131.,\n",
              "       136., 138., 139., 140., 142., 143., 145., 148., 149.])"
            ]
          },
          "metadata": {},
          "execution_count": 26
        }
      ]
    },
    {
      "cell_type": "code",
      "source": [
        "t_test"
      ],
      "metadata": {
        "colab": {
          "base_uri": "https://localhost:8080/"
        },
        "id": "o0cL3LnFGSU6",
        "outputId": "8159471f-cbdf-4e87-828b-7169ab98cfa2"
      },
      "execution_count": 28,
      "outputs": [
        {
          "output_type": "execute_result",
          "data": {
            "text/plain": [
              "array(['Iris-setosa', 'Iris-versicolor', 'Iris-virginica',\n",
              "       'Iris-virginica', 'Iris-versicolor', 'Iris-versicolor',\n",
              "       'Iris-versicolor', 'Iris-virginica', 'Iris-virginica',\n",
              "       'Iris-virginica', 'Iris-versicolor', 'Iris-virginica',\n",
              "       'Iris-virginica', 'Iris-virginica', 'Iris-setosa', 'Iris-setosa',\n",
              "       'Iris-versicolor', 'Iris-versicolor', 'Iris-versicolor',\n",
              "       'Iris-setosa', 'Iris-setosa', 'Iris-virginica', 'Iris-virginica',\n",
              "       'Iris-virginica', 'Iris-setosa', 'Iris-virginica',\n",
              "       'Iris-virginica', 'Iris-versicolor', 'Iris-virginica',\n",
              "       'Iris-setosa', 'Iris-virginica', 'Iris-setosa', 'Iris-setosa',\n",
              "       'Iris-setosa', 'Iris-setosa', 'Iris-virginica', 'Iris-virginica',\n",
              "       'Iris-versicolor', 'Iris-setosa', 'Iris-versicolor', 'Iris-setosa',\n",
              "       'Iris-virginica', 'Iris-setosa', 'Iris-virginica',\n",
              "       'Iris-virginica', 'Iris-virginica', 'Iris-setosa',\n",
              "       'Iris-versicolor', 'Iris-virginica', 'Iris-virginica',\n",
              "       'Iris-setosa', 'Iris-virginica', 'Iris-setosa', 'Iris-setosa',\n",
              "       'Iris-setosa', 'Iris-versicolor', 'Iris-versicolor',\n",
              "       'Iris-versicolor', 'Iris-virginica', 'Iris-virginica',\n",
              "       'Iris-versicolor', 'Iris-setosa', 'Iris-versicolor', 'Iris-setosa',\n",
              "       'Iris-setosa', 'Iris-versicolor', 'Iris-setosa', 'Iris-virginica',\n",
              "       'Iris-setosa', 'Iris-virginica', 'Iris-versicolor', 'Iris-setosa',\n",
              "       'Iris-versicolor', 'Iris-versicolor', 'Iris-virginica'],\n",
              "      dtype=object)"
            ]
          },
          "metadata": {},
          "execution_count": 28
        }
      ]
    },
    {
      "cell_type": "code",
      "source": [
        "# まずデータフレームに変換\n",
        "\n",
        "#id = [1, 2, 3]\n",
        "#test = ['あ', 'い', 'う']\n",
        "\n",
        "#pd.DataFrame({'id': id, 'test': test})\n",
        "# ０列を整数のリストにする\n",
        "x_test[:,:0].astype(int)\n",
        "# idとあわせてデータフレームに変換\n",
        "\n",
        "output = pd.DataFrame({'id': x_test[:,0].astype(int), 'test': t_test})"
      ],
      "metadata": {
        "id": "3UKZ8fiIJ4Q9"
      },
      "execution_count": 48,
      "outputs": []
    },
    {
      "cell_type": "code",
      "source": [
        "output"
      ],
      "metadata": {
        "colab": {
          "base_uri": "https://localhost:8080/",
          "height": 424
        },
        "id": "1erw4_GnKDCw",
        "outputId": "8ab41c5c-4f90-4462-d34b-1e02860b130a"
      },
      "execution_count": 49,
      "outputs": [
        {
          "output_type": "execute_result",
          "data": {
            "text/plain": [
              "     id             test\n",
              "0     0      Iris-setosa\n",
              "1     1  Iris-versicolor\n",
              "2     3   Iris-virginica\n",
              "3     4   Iris-virginica\n",
              "4     5  Iris-versicolor\n",
              "..  ...              ...\n",
              "70  142  Iris-versicolor\n",
              "71  143      Iris-setosa\n",
              "72  145  Iris-versicolor\n",
              "73  148  Iris-versicolor\n",
              "74  149   Iris-virginica\n",
              "\n",
              "[75 rows x 2 columns]"
            ],
            "text/html": [
              "\n",
              "  <div id=\"df-8162ead3-7947-4854-b812-e68ecd38d10b\">\n",
              "    <div class=\"colab-df-container\">\n",
              "      <div>\n",
              "<style scoped>\n",
              "    .dataframe tbody tr th:only-of-type {\n",
              "        vertical-align: middle;\n",
              "    }\n",
              "\n",
              "    .dataframe tbody tr th {\n",
              "        vertical-align: top;\n",
              "    }\n",
              "\n",
              "    .dataframe thead th {\n",
              "        text-align: right;\n",
              "    }\n",
              "</style>\n",
              "<table border=\"1\" class=\"dataframe\">\n",
              "  <thead>\n",
              "    <tr style=\"text-align: right;\">\n",
              "      <th></th>\n",
              "      <th>id</th>\n",
              "      <th>test</th>\n",
              "    </tr>\n",
              "  </thead>\n",
              "  <tbody>\n",
              "    <tr>\n",
              "      <th>0</th>\n",
              "      <td>0</td>\n",
              "      <td>Iris-setosa</td>\n",
              "    </tr>\n",
              "    <tr>\n",
              "      <th>1</th>\n",
              "      <td>1</td>\n",
              "      <td>Iris-versicolor</td>\n",
              "    </tr>\n",
              "    <tr>\n",
              "      <th>2</th>\n",
              "      <td>3</td>\n",
              "      <td>Iris-virginica</td>\n",
              "    </tr>\n",
              "    <tr>\n",
              "      <th>3</th>\n",
              "      <td>4</td>\n",
              "      <td>Iris-virginica</td>\n",
              "    </tr>\n",
              "    <tr>\n",
              "      <th>4</th>\n",
              "      <td>5</td>\n",
              "      <td>Iris-versicolor</td>\n",
              "    </tr>\n",
              "    <tr>\n",
              "      <th>...</th>\n",
              "      <td>...</td>\n",
              "      <td>...</td>\n",
              "    </tr>\n",
              "    <tr>\n",
              "      <th>70</th>\n",
              "      <td>142</td>\n",
              "      <td>Iris-versicolor</td>\n",
              "    </tr>\n",
              "    <tr>\n",
              "      <th>71</th>\n",
              "      <td>143</td>\n",
              "      <td>Iris-setosa</td>\n",
              "    </tr>\n",
              "    <tr>\n",
              "      <th>72</th>\n",
              "      <td>145</td>\n",
              "      <td>Iris-versicolor</td>\n",
              "    </tr>\n",
              "    <tr>\n",
              "      <th>73</th>\n",
              "      <td>148</td>\n",
              "      <td>Iris-versicolor</td>\n",
              "    </tr>\n",
              "    <tr>\n",
              "      <th>74</th>\n",
              "      <td>149</td>\n",
              "      <td>Iris-virginica</td>\n",
              "    </tr>\n",
              "  </tbody>\n",
              "</table>\n",
              "<p>75 rows × 2 columns</p>\n",
              "</div>\n",
              "      <button class=\"colab-df-convert\" onclick=\"convertToInteractive('df-8162ead3-7947-4854-b812-e68ecd38d10b')\"\n",
              "              title=\"Convert this dataframe to an interactive table.\"\n",
              "              style=\"display:none;\">\n",
              "        \n",
              "  <svg xmlns=\"http://www.w3.org/2000/svg\" height=\"24px\"viewBox=\"0 0 24 24\"\n",
              "       width=\"24px\">\n",
              "    <path d=\"M0 0h24v24H0V0z\" fill=\"none\"/>\n",
              "    <path d=\"M18.56 5.44l.94 2.06.94-2.06 2.06-.94-2.06-.94-.94-2.06-.94 2.06-2.06.94zm-11 1L8.5 8.5l.94-2.06 2.06-.94-2.06-.94L8.5 2.5l-.94 2.06-2.06.94zm10 10l.94 2.06.94-2.06 2.06-.94-2.06-.94-.94-2.06-.94 2.06-2.06.94z\"/><path d=\"M17.41 7.96l-1.37-1.37c-.4-.4-.92-.59-1.43-.59-.52 0-1.04.2-1.43.59L10.3 9.45l-7.72 7.72c-.78.78-.78 2.05 0 2.83L4 21.41c.39.39.9.59 1.41.59.51 0 1.02-.2 1.41-.59l7.78-7.78 2.81-2.81c.8-.78.8-2.07 0-2.86zM5.41 20L4 18.59l7.72-7.72 1.47 1.35L5.41 20z\"/>\n",
              "  </svg>\n",
              "      </button>\n",
              "      \n",
              "  <style>\n",
              "    .colab-df-container {\n",
              "      display:flex;\n",
              "      flex-wrap:wrap;\n",
              "      gap: 12px;\n",
              "    }\n",
              "\n",
              "    .colab-df-convert {\n",
              "      background-color: #E8F0FE;\n",
              "      border: none;\n",
              "      border-radius: 50%;\n",
              "      cursor: pointer;\n",
              "      display: none;\n",
              "      fill: #1967D2;\n",
              "      height: 32px;\n",
              "      padding: 0 0 0 0;\n",
              "      width: 32px;\n",
              "    }\n",
              "\n",
              "    .colab-df-convert:hover {\n",
              "      background-color: #E2EBFA;\n",
              "      box-shadow: 0px 1px 2px rgba(60, 64, 67, 0.3), 0px 1px 3px 1px rgba(60, 64, 67, 0.15);\n",
              "      fill: #174EA6;\n",
              "    }\n",
              "\n",
              "    [theme=dark] .colab-df-convert {\n",
              "      background-color: #3B4455;\n",
              "      fill: #D2E3FC;\n",
              "    }\n",
              "\n",
              "    [theme=dark] .colab-df-convert:hover {\n",
              "      background-color: #434B5C;\n",
              "      box-shadow: 0px 1px 3px 1px rgba(0, 0, 0, 0.15);\n",
              "      filter: drop-shadow(0px 1px 2px rgba(0, 0, 0, 0.3));\n",
              "      fill: #FFFFFF;\n",
              "    }\n",
              "  </style>\n",
              "\n",
              "      <script>\n",
              "        const buttonEl =\n",
              "          document.querySelector('#df-8162ead3-7947-4854-b812-e68ecd38d10b button.colab-df-convert');\n",
              "        buttonEl.style.display =\n",
              "          google.colab.kernel.accessAllowed ? 'block' : 'none';\n",
              "\n",
              "        async function convertToInteractive(key) {\n",
              "          const element = document.querySelector('#df-8162ead3-7947-4854-b812-e68ecd38d10b');\n",
              "          const dataTable =\n",
              "            await google.colab.kernel.invokeFunction('convertToInteractive',\n",
              "                                                     [key], {});\n",
              "          if (!dataTable) return;\n",
              "\n",
              "          const docLinkHtml = 'Like what you see? Visit the ' +\n",
              "            '<a target=\"_blank\" href=https://colab.research.google.com/notebooks/data_table.ipynb>data table notebook</a>'\n",
              "            + ' to learn more about interactive tables.';\n",
              "          element.innerHTML = '';\n",
              "          dataTable['output_type'] = 'display_data';\n",
              "          await google.colab.output.renderOutput(dataTable, element);\n",
              "          const docLink = document.createElement('div');\n",
              "          docLink.innerHTML = docLinkHtml;\n",
              "          element.appendChild(docLink);\n",
              "        }\n",
              "      </script>\n",
              "    </div>\n",
              "  </div>\n",
              "  "
            ]
          },
          "metadata": {},
          "execution_count": 49
        }
      ]
    },
    {
      "cell_type": "code",
      "source": [
        ""
      ],
      "metadata": {
        "id": "EheUkUA5KFTT"
      },
      "execution_count": null,
      "outputs": []
    },
    {
      "cell_type": "code",
      "source": [
        "# ヘッダとインデックスなし出力\n",
        "outpath= '/content/drive/MyDrive/Colab Notebooks/kikagaku_long/0416_team/0417_submit.csv'\n",
        "output.to_csv(outpath, header=False, index=False)"
      ],
      "metadata": {
        "id": "EqYurpixIzyA"
      },
      "execution_count": 51,
      "outputs": []
    },
    {
      "cell_type": "markdown",
      "source": [
        ""
      ],
      "metadata": {
        "id": "_bWGCutDKftY"
      }
    },
    {
      "cell_type": "code",
      "source": [
        ""
      ],
      "metadata": {
        "id": "ER7a0SxsJ8h7"
      },
      "execution_count": null,
      "outputs": []
    },
    {
      "cell_type": "code",
      "source": [
        ""
      ],
      "metadata": {
        "id": "WRYbh6ckJ6e1"
      },
      "execution_count": null,
      "outputs": []
    },
    {
      "cell_type": "code",
      "source": [
        ""
      ],
      "metadata": {
        "id": "RzCYAdtRJY8q"
      },
      "execution_count": null,
      "outputs": []
    }
  ]
}